{
 "cells": [
  {
   "cell_type": "code",
   "execution_count": 15,
   "metadata": {},
   "outputs": [],
   "source": [
    "from random_search import *\n",
    "import pandas as pd\n",
    "import numpy as np\n",
    "import matplotlib.pyplot as plt\n",
    "import seaborn as sns#\n",
    "import math\n",
    "from sklearn.metrics import log_loss\n",
    "from sklearn.preprocessing import OneHotEncoder"
   ]
  },
  {
   "cell_type": "markdown",
   "metadata": {},
   "source": [
    "## Load and prepare data"
   ]
  },
  {
   "cell_type": "code",
   "execution_count": 2,
   "metadata": {},
   "outputs": [],
   "source": [
    "df = pd.read_csv('data/framingham.csv')\n",
    "df = df.dropna()"
   ]
  },
  {
   "cell_type": "code",
   "execution_count": 3,
   "metadata": {},
   "outputs": [
    {
     "data": {
      "text/html": [
       "<div>\n",
       "<style scoped>\n",
       "    .dataframe tbody tr th:only-of-type {\n",
       "        vertical-align: middle;\n",
       "    }\n",
       "\n",
       "    .dataframe tbody tr th {\n",
       "        vertical-align: top;\n",
       "    }\n",
       "\n",
       "    .dataframe thead th {\n",
       "        text-align: right;\n",
       "    }\n",
       "</style>\n",
       "<table border=\"1\" class=\"dataframe\">\n",
       "  <thead>\n",
       "    <tr style=\"text-align: right;\">\n",
       "      <th></th>\n",
       "      <th>male</th>\n",
       "      <th>age</th>\n",
       "      <th>education</th>\n",
       "      <th>currentSmoker</th>\n",
       "      <th>cigsPerDay</th>\n",
       "      <th>BPMeds</th>\n",
       "      <th>prevalentStroke</th>\n",
       "      <th>prevalentHyp</th>\n",
       "      <th>diabetes</th>\n",
       "      <th>totChol</th>\n",
       "      <th>sysBP</th>\n",
       "      <th>diaBP</th>\n",
       "      <th>BMI</th>\n",
       "      <th>heartRate</th>\n",
       "      <th>glucose</th>\n",
       "      <th>TenYearCHD</th>\n",
       "    </tr>\n",
       "  </thead>\n",
       "  <tbody>\n",
       "    <tr>\n",
       "      <th>0</th>\n",
       "      <td>1</td>\n",
       "      <td>39</td>\n",
       "      <td>4.0</td>\n",
       "      <td>0</td>\n",
       "      <td>0.0</td>\n",
       "      <td>0.0</td>\n",
       "      <td>0</td>\n",
       "      <td>0</td>\n",
       "      <td>0</td>\n",
       "      <td>195.0</td>\n",
       "      <td>106.0</td>\n",
       "      <td>70.0</td>\n",
       "      <td>26.97</td>\n",
       "      <td>80.0</td>\n",
       "      <td>77.0</td>\n",
       "      <td>0</td>\n",
       "    </tr>\n",
       "    <tr>\n",
       "      <th>1</th>\n",
       "      <td>0</td>\n",
       "      <td>46</td>\n",
       "      <td>2.0</td>\n",
       "      <td>0</td>\n",
       "      <td>0.0</td>\n",
       "      <td>0.0</td>\n",
       "      <td>0</td>\n",
       "      <td>0</td>\n",
       "      <td>0</td>\n",
       "      <td>250.0</td>\n",
       "      <td>121.0</td>\n",
       "      <td>81.0</td>\n",
       "      <td>28.73</td>\n",
       "      <td>95.0</td>\n",
       "      <td>76.0</td>\n",
       "      <td>0</td>\n",
       "    </tr>\n",
       "    <tr>\n",
       "      <th>2</th>\n",
       "      <td>1</td>\n",
       "      <td>48</td>\n",
       "      <td>1.0</td>\n",
       "      <td>1</td>\n",
       "      <td>20.0</td>\n",
       "      <td>0.0</td>\n",
       "      <td>0</td>\n",
       "      <td>0</td>\n",
       "      <td>0</td>\n",
       "      <td>245.0</td>\n",
       "      <td>127.5</td>\n",
       "      <td>80.0</td>\n",
       "      <td>25.34</td>\n",
       "      <td>75.0</td>\n",
       "      <td>70.0</td>\n",
       "      <td>0</td>\n",
       "    </tr>\n",
       "    <tr>\n",
       "      <th>3</th>\n",
       "      <td>0</td>\n",
       "      <td>61</td>\n",
       "      <td>3.0</td>\n",
       "      <td>1</td>\n",
       "      <td>30.0</td>\n",
       "      <td>0.0</td>\n",
       "      <td>0</td>\n",
       "      <td>1</td>\n",
       "      <td>0</td>\n",
       "      <td>225.0</td>\n",
       "      <td>150.0</td>\n",
       "      <td>95.0</td>\n",
       "      <td>28.58</td>\n",
       "      <td>65.0</td>\n",
       "      <td>103.0</td>\n",
       "      <td>1</td>\n",
       "    </tr>\n",
       "    <tr>\n",
       "      <th>4</th>\n",
       "      <td>0</td>\n",
       "      <td>46</td>\n",
       "      <td>3.0</td>\n",
       "      <td>1</td>\n",
       "      <td>23.0</td>\n",
       "      <td>0.0</td>\n",
       "      <td>0</td>\n",
       "      <td>0</td>\n",
       "      <td>0</td>\n",
       "      <td>285.0</td>\n",
       "      <td>130.0</td>\n",
       "      <td>84.0</td>\n",
       "      <td>23.10</td>\n",
       "      <td>85.0</td>\n",
       "      <td>85.0</td>\n",
       "      <td>0</td>\n",
       "    </tr>\n",
       "  </tbody>\n",
       "</table>\n",
       "</div>"
      ],
      "text/plain": [
       "   male  age  education  currentSmoker  cigsPerDay  BPMeds  prevalentStroke  \\\n",
       "0     1   39        4.0              0         0.0     0.0                0   \n",
       "1     0   46        2.0              0         0.0     0.0                0   \n",
       "2     1   48        1.0              1        20.0     0.0                0   \n",
       "3     0   61        3.0              1        30.0     0.0                0   \n",
       "4     0   46        3.0              1        23.0     0.0                0   \n",
       "\n",
       "   prevalentHyp  diabetes  totChol  sysBP  diaBP    BMI  heartRate  glucose  \\\n",
       "0             0         0    195.0  106.0   70.0  26.97       80.0     77.0   \n",
       "1             0         0    250.0  121.0   81.0  28.73       95.0     76.0   \n",
       "2             0         0    245.0  127.5   80.0  25.34       75.0     70.0   \n",
       "3             1         0    225.0  150.0   95.0  28.58       65.0    103.0   \n",
       "4             0         0    285.0  130.0   84.0  23.10       85.0     85.0   \n",
       "\n",
       "   TenYearCHD  \n",
       "0           0  \n",
       "1           0  \n",
       "2           0  \n",
       "3           1  \n",
       "4           0  "
      ]
     },
     "execution_count": 3,
     "metadata": {},
     "output_type": "execute_result"
    }
   ],
   "source": [
    "df.head()"
   ]
  },
  {
   "cell_type": "markdown",
   "metadata": {},
   "source": [
    "### Train-test split"
   ]
  },
  {
   "cell_type": "code",
   "execution_count": 4,
   "metadata": {},
   "outputs": [],
   "source": [
    "df_train = df.sample(frac=0.8)\n",
    "df_valid = df.drop(df_train.index)"
   ]
  },
  {
   "cell_type": "code",
   "execution_count": 5,
   "metadata": {},
   "outputs": [],
   "source": [
    "X_train = df_train[['male', 'age', 'education', 'currentSmoker',\n",
    "                    'cigsPerDay', 'BPMeds', 'prevalentStroke', \n",
    "                    'prevalentHyp', 'diabetes', 'totChol', \n",
    "                    'sysBP', 'diaBP', 'BMI', 'heartRate', 'glucose'\n",
    "                   ]].to_numpy()\n",
    "y_train = df_train['TenYearCHD'].to_numpy()\n",
    "\n",
    "\n",
    "X_valid = df_valid[['male', 'age', 'education', 'currentSmoker',\n",
    "                    'cigsPerDay', 'BPMeds', 'prevalentStroke', \n",
    "                    'prevalentHyp', 'diabetes', 'totChol', \n",
    "                    'sysBP', 'diaBP', 'BMI', 'heartRate', 'glucose'\n",
    "                   ]].to_numpy()\n",
    "y_valid = df_valid['TenYearCHD'].to_numpy()"
   ]
  },
  {
   "cell_type": "code",
   "execution_count": 6,
   "metadata": {},
   "outputs": [],
   "source": [
    "X_train = np.c_[np.ones((y_train.shape[0], 1)), X_train]\n",
    "X_valid = np.c_[np.ones((y_valid.shape[0], 1)), X_valid]"
   ]
  },
  {
   "cell_type": "code",
   "execution_count": 7,
   "metadata": {},
   "outputs": [
    {
     "data": {
      "text/plain": [
       "(2925, 16)"
      ]
     },
     "execution_count": 7,
     "metadata": {},
     "output_type": "execute_result"
    }
   ],
   "source": [
    "X_train.shape"
   ]
  },
  {
   "cell_type": "markdown",
   "metadata": {},
   "source": [
    "### Basic experiment"
   ]
  },
  {
   "cell_type": "code",
   "execution_count": 8,
   "metadata": {},
   "outputs": [],
   "source": [
    "epochs = 30"
   ]
  },
  {
   "cell_type": "code",
   "execution_count": 9,
   "metadata": {},
   "outputs": [
    {
     "name": "stdout",
     "output_type": "stream",
     "text": [
      "loss_w = 0.6931471805599453\n",
      "valid_loss = 0.6931471805599453\n",
      "loss_w = 0.4470880783265781\n",
      "valid_loss = 0.4602969262036522\n",
      "loss_w = 0.4404077805746745\n",
      "valid_loss = 0.4560959547555494\n"
     ]
    }
   ],
   "source": [
    "w1, losses1, valid_losses1 = random_search(epochs, X_train, y_train, X_valid, y_valid, gamma=0.00001, m=0.0001, loss=log_loss)"
   ]
  },
  {
   "cell_type": "code",
   "execution_count": 10,
   "metadata": {},
   "outputs": [
    {
     "data": {
      "text/plain": [
       "<matplotlib.legend.Legend at 0x7fee2b867390>"
      ]
     },
     "execution_count": 10,
     "metadata": {},
     "output_type": "execute_result"
    },
    {
     "data": {
      "image/png": "[encoded data removed]",
      "text/plain": [
       "<Figure size 432x288 with 1 Axes>"
      ]
     },
     "metadata": {
      "needs_background": "light"
     },
     "output_type": "display_data"
    }
   ],
   "source": [
    "plt.plot(list(range(30)), losses1, label = 'train')\n",
    "plt.plot(list(range(30)), valid_losses1, label = 'test')\n",
    "plt.xlabel('Epoch')\n",
    "plt.ylabel('Error')\n",
    "plt.grid()\n",
    "plt.legend()\n",
    "#plt.savefig('figs/zo_classification')"
   ]
  },
  {
   "cell_type": "markdown",
   "metadata": {},
   "source": [
    "### Parameter m - tuning"
   ]
  },
  {
   "cell_type": "code",
   "execution_count": 12,
   "metadata": {},
   "outputs": [],
   "source": [
    "m_vals = [1e-1, 1e-2, 1e-3, 1e-4, 1e-5, 1e-6]"
   ]
  },
  {
   "cell_type": "code",
   "execution_count": 13,
   "metadata": {},
   "outputs": [
    {
     "name": "stdout",
     "output_type": "stream",
     "text": [
      "m = 0.1\n",
      "loss_w = 0.6931471805599453\n",
      "valid_loss = 0.6931471805599453\n",
      "loss_w = 0.48019770428318287\n",
      "valid_loss = 0.49982724043335613\n",
      "loss_w = 0.8438316188248252\n",
      "valid_loss = 0.8958726475665103\n",
      "-------------------------\n",
      "m = 0.01\n",
      "loss_w = 0.6931471805599453\n",
      "valid_loss = 0.6931471805599453\n",
      "loss_w = 0.44605696965060265\n",
      "valid_loss = 0.4598117026887954\n",
      "loss_w = 0.5244889646511034\n",
      "valid_loss = 0.5548512282811878\n",
      "-------------------------\n",
      "m = 0.001\n",
      "loss_w = 0.6931471805599453\n",
      "valid_loss = 0.6931471805599453\n",
      "loss_w = 0.44977109876280036\n",
      "valid_loss = 0.46244353183651027\n",
      "loss_w = 0.4405378466269211\n",
      "valid_loss = 0.45705180436180154\n",
      "-------------------------\n",
      "m = 0.0001\n",
      "loss_w = 0.6931471805599453\n",
      "valid_loss = 0.6931471805599453\n",
      "loss_w = 0.4470880783265781\n",
      "valid_loss = 0.4602969262036522\n",
      "loss_w = 0.4404077805746745\n",
      "valid_loss = 0.4560959547555494\n",
      "-------------------------\n",
      "m = 1e-05\n",
      "loss_w = 0.6931471805599453\n",
      "valid_loss = 0.6931471805599453\n",
      "loss_w = 0.4467802509523647\n",
      "valid_loss = 0.4600544501278984\n",
      "loss_w = 0.44040502900992934\n",
      "valid_loss = 0.45602807666826595\n",
      "-------------------------\n",
      "m = 1e-06\n",
      "loss_w = 0.6931471805599453\n",
      "valid_loss = 0.6931471805599453\n",
      "loss_w = 0.4467491939189716\n",
      "valid_loss = 0.46003004165161554\n",
      "loss_w = 0.44040471514596585\n",
      "valid_loss = 0.4560214308101344\n",
      "-------------------------\n"
     ]
    }
   ],
   "source": [
    "loss_list = []\n",
    "valid_loss_list = []\n",
    "\n",
    "for m in m_vals:\n",
    "    print('m = {}'.format(m))\n",
    "    w, losses, valid_losses = random_search(30, X_train, y_train, X_valid, y_valid, 1e-5, m, log_loss)\n",
    "    loss_list.append(losses)\n",
    "    valid_loss_list.append(valid_losses)\n",
    "    print('-------------------------')"
   ]
  },
  {
   "cell_type": "code",
   "execution_count": 14,
   "metadata": {},
   "outputs": [
    {
     "data": {
      "image/png": "[encoded data removed]",
      "text/plain": [
       "<Figure size 1296x720 with 6 Axes>"
      ]
     },
     "metadata": {
      "needs_background": "light"
     },
     "output_type": "display_data"
    }
   ],
   "source": [
    "fig, axs = plt.subplots(2,3,sharey=False, sharex=True, figsize=(18,10))\n",
    "\n",
    "for i in range(len(axs)):\n",
    "    for j in range(len(axs[0])):\n",
    "        n = i+j+2*i\n",
    "        axs[i,j].plot(list(range(30)), loss_list[n], label = 'train')\n",
    "        axs[i,j].plot(list(range(30)), valid_loss_list[n], label = 'test')\n",
    "        axs[i,j].set_xlabel('Epoch')\n",
    "        axs[i,j].set_ylabel('Error')\n",
    "        axs[i,j].set_title('m = {}'.format(m_vals[n]))\n",
    "        axs[i,j].grid()\n",
    "        axs[i,j].legend()\n",
    "        \n",
    "#plt.savefig('figs/m_tuning')"
   ]
  },
  {
   "cell_type": "markdown",
   "metadata": {},
   "source": [
    "Try more epochs with m=0.1:"
   ]
  },
  {
   "cell_type": "code",
   "execution_count": 28,
   "metadata": {
    "collapsed": true,
    "jupyter": {
     "outputs_hidden": true
    }
   },
   "outputs": [
    {
     "name": "stdout",
     "output_type": "stream",
     "text": [
      "loss_w = 0.6931471805599453\n",
      "valid_loss = 0.6931471805599453\n",
      "loss_w = 0.7207406691443804\n",
      "valid_loss = 0.8475621609756108\n",
      "loss_w = 0.9205544556416646\n",
      "valid_loss = 1.0814961426234153\n",
      "loss_w = 1.3325111096249926\n",
      "valid_loss = 1.5643383169298253\n",
      "loss_w = 1.3821407170342723\n",
      "valid_loss = 1.6175020235152466\n",
      "loss_w = 1.6578543633456662\n",
      "valid_loss = 1.9430134630874707\n",
      "loss_w = 1.9206199708083396\n",
      "valid_loss = 2.255374182081914\n",
      "loss_w = 2.2003425443131452\n",
      "valid_loss = 2.581670771091419\n",
      "loss_w = 2.2915115315261465\n",
      "valid_loss = 2.6881567744061803\n",
      "loss_w = 2.4762352149037326\n",
      "valid_loss = 2.9034607425061547\n",
      "loss_w = 2.5070361774493795\n",
      "valid_loss = 2.9411712433023647\n",
      "loss_w = 2.9472530212911487\n",
      "valid_loss = 3.4597366612711586\n",
      "loss_w = 2.9766918932479713\n",
      "valid_loss = 3.4940259950906185\n",
      "loss_w = 2.938191248328164\n",
      "valid_loss = 3.4477604404248434\n",
      "loss_w = 2.9481962778263693\n",
      "valid_loss = 3.459521728056718\n",
      "loss_w = 3.739712387853192\n",
      "valid_loss = 4.401297163895091\n",
      "loss_w = 4.069918630807145\n",
      "valid_loss = 4.789358707410381\n",
      "loss_w = 4.305786370497087\n",
      "valid_loss = 5.058453320156033\n",
      "loss_w = 4.6284808120935494\n",
      "valid_loss = 5.436542605303646\n",
      "loss_w = 4.636504723204559\n",
      "valid_loss = 5.446456106984176\n",
      "loss_w = 4.618070597477052\n",
      "valid_loss = 5.424097299494107\n",
      "loss_w = 4.597813798971117\n",
      "valid_loss = 5.400765715217582\n",
      "loss_w = 4.576609970892967\n",
      "valid_loss = 5.376589760758776\n",
      "loss_w = 4.749731035090249\n",
      "valid_loss = 5.592809462698156\n",
      "loss_w = 4.736013869197334\n",
      "valid_loss = 5.575170741388301\n",
      "loss_w = 4.926786373347343\n",
      "valid_loss = 5.817863201812559\n",
      "loss_w = 4.973077612015914\n",
      "valid_loss = 5.871568693888215\n",
      "loss_w = 4.960521222946434\n",
      "valid_loss = 5.856928185665355\n",
      "loss_w = 4.943369362449777\n",
      "valid_loss = 5.837302325857209\n",
      "loss_w = 4.933115899777699\n",
      "valid_loss = 5.825526366512942\n"
     ]
    }
   ],
   "source": [
    "w, losses, valid_losses = random_search(300, X_train, y_train, X_valid, y_valid, 1e-5, m_vals[0], log_loss)"
   ]
  },
  {
   "cell_type": "code",
   "execution_count": 29,
   "metadata": {},
   "outputs": [
    {
     "data": {
      "text/plain": [
       "<matplotlib.legend.Legend at 0x7f1a379b84a8>"
      ]
     },
     "execution_count": 29,
     "metadata": {},
     "output_type": "execute_result"
    },
    {
     "data": {
      "image/png": "[encoded data removed]",
      "text/plain": [
       "<Figure size 432x288 with 1 Axes>"
      ]
     },
     "metadata": {
      "needs_background": "light"
     },
     "output_type": "display_data"
    }
   ],
   "source": [
    "plt.plot(list(range(300)), losses, label = 'train')\n",
    "plt.plot(list(range(300)), valid_losses, label = 'test')\n",
    "plt.xlabel('Epoch')\n",
    "plt.ylabel('Error')\n",
    "plt.grid()\n",
    "plt.legend()"
   ]
  },
  {
   "cell_type": "markdown",
   "metadata": {},
   "source": [
    "Try more epochs with m=0.01:"
   ]
  },
  {
   "cell_type": "code",
   "execution_count": 26,
   "metadata": {
    "collapsed": true,
    "jupyter": {
     "outputs_hidden": true
    }
   },
   "outputs": [
    {
     "name": "stdout",
     "output_type": "stream",
     "text": [
      "loss_w = 0.6931471805599453\n",
      "valid_loss = 0.6931471805599453\n",
      "loss_w = 0.44259100385716904\n",
      "valid_loss = 0.475035492110732\n",
      "loss_w = 0.7613920361707213\n",
      "valid_loss = 0.8986940159668813\n",
      "loss_w = 0.6977089909607131\n",
      "valid_loss = 0.8221703637622257\n",
      "loss_w = 0.634942398848523\n",
      "valid_loss = 0.7473216113249073\n",
      "loss_w = 1.0024973334109177\n",
      "valid_loss = 1.179288796512101\n",
      "loss_w = 0.8358506875447074\n",
      "valid_loss = 0.9821148186950251\n",
      "loss_w = 0.6948344672898895\n",
      "valid_loss = 0.8149106263527607\n",
      "loss_w = 0.6654192379217089\n",
      "valid_loss = 0.7791368221563314\n",
      "loss_w = 0.6636909647100417\n",
      "valid_loss = 0.7753744923098878\n"
     ]
    }
   ],
   "source": [
    "w, losses, valid_losses = random_search(100, X_train, y_train, X_valid, y_valid, 1e-5, m_vals[1], log_loss)"
   ]
  },
  {
   "cell_type": "code",
   "execution_count": 27,
   "metadata": {
    "collapsed": true,
    "jupyter": {
     "outputs_hidden": true
    }
   },
   "outputs": [
    {
     "data": {
      "text/plain": [
       "<matplotlib.legend.Legend at 0x7f1a37a2dd68>"
      ]
     },
     "execution_count": 27,
     "metadata": {},
     "output_type": "execute_result"
    },
    {
     "data": {
      "image/png": "[encoded data removed]",
      "text/plain": [
       "<Figure size 432x288 with 1 Axes>"
      ]
     },
     "metadata": {
      "needs_background": "light"
     },
     "output_type": "display_data"
    }
   ],
   "source": [
    "plt.plot(list(range(100)), losses, label = 'train')\n",
    "plt.plot(list(range(100)), valid_losses, label = 'test')\n",
    "plt.xlabel('Epoch')\n",
    "plt.ylabel('Error')\n",
    "plt.grid()\n",
    "plt.legend()"
   ]
  },
  {
   "cell_type": "code",
   "execution_count": 32,
   "metadata": {},
   "outputs": [
    {
     "name": "stdout",
     "output_type": "stream",
     "text": [
      "loss_w = 0.6931471805599453\n",
      "valid_loss = 0.6931471805599453\n",
      "loss_w = 0.5108435245794473\n",
      "valid_loss = 0.5192591446301766\n",
      "loss_w = 0.43999093519910615\n",
      "valid_loss = 0.4575453929709873\n"
     ]
    }
   ],
   "source": [
    "w, losses, valid_losses = random_search(30, X_train, y_train, X_valid, y_valid, 1e-5, 1e-18, log_loss)"
   ]
  },
  {
   "cell_type": "code",
   "execution_count": 33,
   "metadata": {},
   "outputs": [
    {
     "data": {
      "text/plain": [
       "<matplotlib.legend.Legend at 0x7fee28f91a58>"
      ]
     },
     "execution_count": 33,
     "metadata": {},
     "output_type": "execute_result"
    },
    {
     "data": {
      "image/png": "[encoded data removed]",
      "text/plain": [
       "<Figure size 432x288 with 1 Axes>"
      ]
     },
     "metadata": {
      "needs_background": "light"
     },
     "output_type": "display_data"
    }
   ],
   "source": [
    "plt.plot(list(range(30)), losses, label = 'train')\n",
    "plt.plot(list(range(30)), valid_losses, label = 'test')\n",
    "plt.xlabel('Epoch')\n",
    "plt.ylabel('Error')\n",
    "plt.grid()\n",
    "plt.legend()"
   ]
  },
  {
   "cell_type": "code",
   "execution_count": 36,
   "metadata": {},
   "outputs": [],
   "source": [
    "from sklearn.linear_model import LogisticRegression, SGDClassifier"
   ]
  },
  {
   "cell_type": "code",
   "execution_count": 37,
   "metadata": {},
   "outputs": [],
   "source": [
    "model = SGDClassifier(loss = 'log', verbose=2, fit_intercept = True, learning_rate = 'constant', eta0 = 1e-5)#, max_iter=1000)"
   ]
  },
  {
   "cell_type": "code",
   "execution_count": 38,
   "metadata": {},
   "outputs": [
    {
     "name": "stdout",
     "output_type": "stream",
     "text": [
      "-- Epoch 1\n",
      "Norm: 0.02, NNZs: 16, Bias: -0.000300, T: 2925, Avg. loss: 0.471650\n",
      "Total training time: 0.00 seconds.\n",
      "-- Epoch 2\n",
      "Norm: 0.04, NNZs: 16, Bias: -0.000575, T: 5850, Avg. loss: 0.458726\n",
      "Total training time: 0.00 seconds.\n",
      "-- Epoch 3\n",
      "Norm: 0.04, NNZs: 16, Bias: -0.000839, T: 8775, Avg. loss: 0.450465\n",
      "Total training time: 0.00 seconds.\n",
      "-- Epoch 4\n",
      "Norm: 0.05, NNZs: 16, Bias: -0.001081, T: 11700, Avg. loss: 0.454030\n",
      "Total training time: 0.01 seconds.\n",
      "-- Epoch 5\n",
      "Norm: 0.06, NNZs: 16, Bias: -0.001307, T: 14625, Avg. loss: 0.448681\n",
      "Total training time: 0.01 seconds.\n",
      "-- Epoch 6\n",
      "Norm: 0.06, NNZs: 16, Bias: -0.001548, T: 17550, Avg. loss: 0.447476\n",
      "Total training time: 0.01 seconds.\n",
      "-- Epoch 7\n",
      "Norm: 0.06, NNZs: 16, Bias: -0.001771, T: 20475, Avg. loss: 0.447285\n",
      "Total training time: 0.01 seconds.\n",
      "-- Epoch 8\n",
      "Norm: 0.07, NNZs: 16, Bias: -0.001972, T: 23400, Avg. loss: 0.448912\n",
      "Total training time: 0.01 seconds.\n",
      "-- Epoch 9\n",
      "Norm: 0.07, NNZs: 16, Bias: -0.002196, T: 26325, Avg. loss: 0.445526\n",
      "Total training time: 0.02 seconds.\n",
      "-- Epoch 10\n",
      "Norm: 0.07, NNZs: 16, Bias: -0.002424, T: 29250, Avg. loss: 0.449870\n",
      "Total training time: 0.02 seconds.\n",
      "-- Epoch 11\n",
      "Norm: 0.07, NNZs: 16, Bias: -0.002630, T: 32175, Avg. loss: 0.449825\n",
      "Total training time: 0.02 seconds.\n",
      "-- Epoch 12\n",
      "Norm: 0.07, NNZs: 16, Bias: -0.002856, T: 35100, Avg. loss: 0.445167\n",
      "Total training time: 0.02 seconds.\n",
      "-- Epoch 13\n",
      "Norm: 0.07, NNZs: 16, Bias: -0.003066, T: 38025, Avg. loss: 0.450162\n",
      "Total training time: 0.02 seconds.\n",
      "-- Epoch 14\n",
      "Norm: 0.07, NNZs: 16, Bias: -0.003274, T: 40950, Avg. loss: 0.446123\n",
      "Total training time: 0.02 seconds.\n",
      "Convergence after 14 epochs took 0.02 seconds\n"
     ]
    },
    {
     "data": {
      "text/plain": [
       "SGDClassifier(eta0=1e-05, learning_rate='constant', loss='log', verbose=2)"
      ]
     },
     "execution_count": 38,
     "metadata": {},
     "output_type": "execute_result"
    }
   ],
   "source": [
    "model.fit(X_train, y_train)"
   ]
  },
  {
   "cell_type": "code",
   "execution_count": 39,
   "metadata": {},
   "outputs": [],
   "source": [
    "w = model.coef_"
   ]
  },
  {
   "cell_type": "code",
   "execution_count": 42,
   "metadata": {},
   "outputs": [],
   "source": [
    "pred = sigmoid(X_valid.dot(w.T))"
   ]
  },
  {
   "cell_type": "code",
   "execution_count": 43,
   "metadata": {},
   "outputs": [
    {
     "data": {
      "text/plain": [
       "0.4441309372471645"
      ]
     },
     "execution_count": 43,
     "metadata": {},
     "output_type": "execute_result"
    }
   ],
   "source": [
    "log_loss(y_valid, pred)"
   ]
  },
  {
   "cell_type": "code",
   "execution_count": 40,
   "metadata": {},
   "outputs": [],
   "source": [
    "np.random.seed(0)"
   ]
  },
  {
   "cell_type": "code",
   "execution_count": null,
   "metadata": {},
   "outputs": [],
   "source": []
  },
  {
   "cell_type": "code",
   "execution_count": null,
   "metadata": {},
   "outputs": [],
   "source": []
  },
  {
   "cell_type": "code",
   "execution_count": null,
   "metadata": {},
   "outputs": [],
   "source": []
  },
  {
   "cell_type": "code",
   "execution_count": null,
   "metadata": {},
   "outputs": [],
   "source": []
  },
  {
   "cell_type": "code",
   "execution_count": 14,
   "metadata": {},
   "outputs": [
    {
     "name": "stdout",
     "output_type": "stream",
     "text": [
      "0.5488135039273248\n",
      "0.7151893663724195\n",
      "0.6027633760716439\n",
      "0.5448831829968969\n"
     ]
    }
   ],
   "source": [
    "np.random.seed(0)\n",
    "print(np.random.random())\n",
    "print(np.random.random())\n",
    "print(np.random.random())\n",
    "print(np.random.random())"
   ]
  },
  {
   "cell_type": "code",
   "execution_count": null,
   "metadata": {},
   "outputs": [],
   "source": []
  },
  {
   "cell_type": "code",
   "execution_count": null,
   "metadata": {},
   "outputs": [],
   "source": []
  },
  {
   "cell_type": "code",
   "execution_count": null,
   "metadata": {},
   "outputs": [],
   "source": []
  },
  {
   "cell_type": "code",
   "execution_count": null,
   "metadata": {},
   "outputs": [],
   "source": []
  }
 ],
 "metadata": {
  "kernelspec": {
   "display_name": "Python 3",
   "language": "python",
   "name": "python3"
  },
  "language_info": {
   "codemirror_mode": {
    "name": "ipython",
    "version": 3
   },
   "file_extension": ".py",
   "mimetype": "text/x-python",
   "name": "python",
   "nbconvert_exporter": "python",
   "pygments_lexer": "ipython3",
   "version": "3.6.9"
  }
 },
 "nbformat": 4,
 "nbformat_minor": 4
}
