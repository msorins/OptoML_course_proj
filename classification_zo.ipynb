{
 "cells": [
  {
   "cell_type": "code",
   "execution_count": 1,
   "metadata": {},
   "outputs": [],
   "source": [
    "from random_search import *\n",
    "import pandas as pd\n",
    "import numpy as np\n",
    "import matplotlib.pyplot as plt\n",
    "import seaborn as sns#\n",
    "import math\n",
    "from sklearn.metrics import log_loss\n",
    "from sklearn.preprocessing import OneHotEncoder\n",
    "from sklearn.preprocessing import Normalizer"
   ]
  },
  {
   "cell_type": "markdown",
   "metadata": {},
   "source": [
    "## Load and prepare data"
   ]
  },
  {
   "cell_type": "code",
   "execution_count": 2,
   "metadata": {},
   "outputs": [],
   "source": [
    "df = pd.read_csv('data/framingham.csv')\n",
    "df = df.dropna()"
   ]
  },
  {
   "cell_type": "code",
   "execution_count": 3,
   "metadata": {},
   "outputs": [
    {
     "data": {
      "text/html": [
       "<div>\n",
       "<style scoped>\n",
       "    .dataframe tbody tr th:only-of-type {\n",
       "        vertical-align: middle;\n",
       "    }\n",
       "\n",
       "    .dataframe tbody tr th {\n",
       "        vertical-align: top;\n",
       "    }\n",
       "\n",
       "    .dataframe thead th {\n",
       "        text-align: right;\n",
       "    }\n",
       "</style>\n",
       "<table border=\"1\" class=\"dataframe\">\n",
       "  <thead>\n",
       "    <tr style=\"text-align: right;\">\n",
       "      <th></th>\n",
       "      <th>male</th>\n",
       "      <th>age</th>\n",
       "      <th>education</th>\n",
       "      <th>currentSmoker</th>\n",
       "      <th>cigsPerDay</th>\n",
       "      <th>BPMeds</th>\n",
       "      <th>prevalentStroke</th>\n",
       "      <th>prevalentHyp</th>\n",
       "      <th>diabetes</th>\n",
       "      <th>totChol</th>\n",
       "      <th>sysBP</th>\n",
       "      <th>diaBP</th>\n",
       "      <th>BMI</th>\n",
       "      <th>heartRate</th>\n",
       "      <th>glucose</th>\n",
       "      <th>TenYearCHD</th>\n",
       "    </tr>\n",
       "  </thead>\n",
       "  <tbody>\n",
       "    <tr>\n",
       "      <th>0</th>\n",
       "      <td>1</td>\n",
       "      <td>39</td>\n",
       "      <td>4.0</td>\n",
       "      <td>0</td>\n",
       "      <td>0.0</td>\n",
       "      <td>0.0</td>\n",
       "      <td>0</td>\n",
       "      <td>0</td>\n",
       "      <td>0</td>\n",
       "      <td>195.0</td>\n",
       "      <td>106.0</td>\n",
       "      <td>70.0</td>\n",
       "      <td>26.97</td>\n",
       "      <td>80.0</td>\n",
       "      <td>77.0</td>\n",
       "      <td>0</td>\n",
       "    </tr>\n",
       "    <tr>\n",
       "      <th>1</th>\n",
       "      <td>0</td>\n",
       "      <td>46</td>\n",
       "      <td>2.0</td>\n",
       "      <td>0</td>\n",
       "      <td>0.0</td>\n",
       "      <td>0.0</td>\n",
       "      <td>0</td>\n",
       "      <td>0</td>\n",
       "      <td>0</td>\n",
       "      <td>250.0</td>\n",
       "      <td>121.0</td>\n",
       "      <td>81.0</td>\n",
       "      <td>28.73</td>\n",
       "      <td>95.0</td>\n",
       "      <td>76.0</td>\n",
       "      <td>0</td>\n",
       "    </tr>\n",
       "    <tr>\n",
       "      <th>2</th>\n",
       "      <td>1</td>\n",
       "      <td>48</td>\n",
       "      <td>1.0</td>\n",
       "      <td>1</td>\n",
       "      <td>20.0</td>\n",
       "      <td>0.0</td>\n",
       "      <td>0</td>\n",
       "      <td>0</td>\n",
       "      <td>0</td>\n",
       "      <td>245.0</td>\n",
       "      <td>127.5</td>\n",
       "      <td>80.0</td>\n",
       "      <td>25.34</td>\n",
       "      <td>75.0</td>\n",
       "      <td>70.0</td>\n",
       "      <td>0</td>\n",
       "    </tr>\n",
       "    <tr>\n",
       "      <th>3</th>\n",
       "      <td>0</td>\n",
       "      <td>61</td>\n",
       "      <td>3.0</td>\n",
       "      <td>1</td>\n",
       "      <td>30.0</td>\n",
       "      <td>0.0</td>\n",
       "      <td>0</td>\n",
       "      <td>1</td>\n",
       "      <td>0</td>\n",
       "      <td>225.0</td>\n",
       "      <td>150.0</td>\n",
       "      <td>95.0</td>\n",
       "      <td>28.58</td>\n",
       "      <td>65.0</td>\n",
       "      <td>103.0</td>\n",
       "      <td>1</td>\n",
       "    </tr>\n",
       "    <tr>\n",
       "      <th>4</th>\n",
       "      <td>0</td>\n",
       "      <td>46</td>\n",
       "      <td>3.0</td>\n",
       "      <td>1</td>\n",
       "      <td>23.0</td>\n",
       "      <td>0.0</td>\n",
       "      <td>0</td>\n",
       "      <td>0</td>\n",
       "      <td>0</td>\n",
       "      <td>285.0</td>\n",
       "      <td>130.0</td>\n",
       "      <td>84.0</td>\n",
       "      <td>23.10</td>\n",
       "      <td>85.0</td>\n",
       "      <td>85.0</td>\n",
       "      <td>0</td>\n",
       "    </tr>\n",
       "  </tbody>\n",
       "</table>\n",
       "</div>"
      ],
      "text/plain": [
       "   male  age  education  currentSmoker  cigsPerDay  BPMeds  prevalentStroke  \\\n",
       "0     1   39        4.0              0         0.0     0.0                0   \n",
       "1     0   46        2.0              0         0.0     0.0                0   \n",
       "2     1   48        1.0              1        20.0     0.0                0   \n",
       "3     0   61        3.0              1        30.0     0.0                0   \n",
       "4     0   46        3.0              1        23.0     0.0                0   \n",
       "\n",
       "   prevalentHyp  diabetes  totChol  sysBP  diaBP    BMI  heartRate  glucose  \\\n",
       "0             0         0    195.0  106.0   70.0  26.97       80.0     77.0   \n",
       "1             0         0    250.0  121.0   81.0  28.73       95.0     76.0   \n",
       "2             0         0    245.0  127.5   80.0  25.34       75.0     70.0   \n",
       "3             1         0    225.0  150.0   95.0  28.58       65.0    103.0   \n",
       "4             0         0    285.0  130.0   84.0  23.10       85.0     85.0   \n",
       "\n",
       "   TenYearCHD  \n",
       "0           0  \n",
       "1           0  \n",
       "2           0  \n",
       "3           1  \n",
       "4           0  "
      ]
     },
     "execution_count": 3,
     "metadata": {},
     "output_type": "execute_result"
    }
   ],
   "source": [
    "df.head()"
   ]
  },
  {
   "cell_type": "markdown",
   "metadata": {},
   "source": [
    "### Train-test split"
   ]
  },
  {
   "cell_type": "code",
   "execution_count": 4,
   "metadata": {},
   "outputs": [],
   "source": [
    "df_train = df.sample(frac=0.8)\n",
    "df_valid = df.drop(df_train.index)"
   ]
  },
  {
   "cell_type": "code",
   "execution_count": 5,
   "metadata": {},
   "outputs": [],
   "source": [
    "X_train = df_train[['male', 'age', 'education', 'currentSmoker',\n",
    "                    'cigsPerDay', 'BPMeds', 'prevalentStroke',\n",
    "                    'prevalentHyp', 'diabetes', 'totChol', \n",
    "                    'sysBP', 'diaBP', 'BMI', 'heartRate', 'glucose'\n",
    "                   ]].to_numpy()\n",
    "y_train = df_train['TenYearCHD'].to_numpy()\n",
    "\n",
    "X_valid = df_valid[['male', 'age', 'education', 'currentSmoker',\n",
    "                    'cigsPerDay', 'BPMeds', 'prevalentStroke',\n",
    "                    'prevalentHyp', 'diabetes', 'totChol', \n",
    "                    'sysBP', 'diaBP', 'BMI', 'heartRate', 'glucose'\n",
    "                   ]].to_numpy()\n",
    "y_valid = df_valid['TenYearCHD'].to_numpy()"
   ]
  },
  {
   "cell_type": "code",
   "execution_count": 6,
   "metadata": {},
   "outputs": [],
   "source": [
    "X_train = np.c_[np.ones((y_train.shape[0], 1)), X_train]\n",
    "X_valid = np.c_[np.ones((y_valid.shape[0], 1)), X_valid]"
   ]
  },
  {
   "cell_type": "code",
   "execution_count": 7,
   "metadata": {},
   "outputs": [
    {
     "data": {
      "text/plain": [
       "(2925, 16)"
      ]
     },
     "execution_count": 7,
     "metadata": {},
     "output_type": "execute_result"
    }
   ],
   "source": [
    "X_train.shape"
   ]
  },
  {
   "cell_type": "markdown",
   "metadata": {},
   "source": [
    "### Basic experiment"
   ]
  },
  {
   "cell_type": "code",
   "execution_count": 8,
   "metadata": {},
   "outputs": [],
   "source": [
    "epochs = 30"
   ]
  },
  {
   "cell_type": "code",
   "execution_count": 9,
   "metadata": {},
   "outputs": [
    {
     "name": "stdout",
     "output_type": "stream",
     "text": [
      "loss_w = 0.6931471805599453\n",
      "valid_loss = 0.6931471805599453\n",
      "loss_w = 0.44927252555338026\n",
      "valid_loss = 0.45284413217148795\n",
      "loss_w = 0.442922004848759\n",
      "valid_loss = 0.4467076217440467\n"
     ]
    }
   ],
   "source": [
    "w1, losses1, valid_losses1 = random_search(epochs, X_train, y_train, X_valid, y_valid, gamma=0.00001, m=0.0001, loss=log_loss)"
   ]
  },
  {
   "cell_type": "code",
   "execution_count": 10,
   "metadata": {},
   "outputs": [
    {
     "data": {
      "text/plain": [
       "<matplotlib.legend.Legend at 0x7f49a38253c8>"
      ]
     },
     "execution_count": 10,
     "metadata": {},
     "output_type": "execute_result"
    },
    {
     "data": {
      "image/png": "[encoded data removed]",
      "text/plain": [
       "<Figure size 432x288 with 1 Axes>"
      ]
     },
     "metadata": {
      "needs_background": "light"
     },
     "output_type": "display_data"
    }
   ],
   "source": [
    "plt.plot(list(range(30)), losses1, label = 'train')\n",
    "plt.plot(list(range(30)), valid_losses1, label = 'test')\n",
    "plt.xlabel('Epoch')\n",
    "plt.ylabel('Error')\n",
    "plt.grid()\n",
    "plt.legend()\n",
    "#plt.savefig('figs/zo_classification')"
   ]
  },
  {
   "cell_type": "markdown",
   "metadata": {},
   "source": [
    "### Parameter m - tuning"
   ]
  },
  {
   "cell_type": "code",
   "execution_count": 11,
   "metadata": {},
   "outputs": [],
   "source": [
    "m_vals = [1e-1, 1e-2, 1e-3, 1e-4, 1e-5, 1e-6]"
   ]
  },
  {
   "cell_type": "code",
   "execution_count": 12,
   "metadata": {},
   "outputs": [
    {
     "name": "stdout",
     "output_type": "stream",
     "text": [
      "m = 0.1\n",
      "loss_w = 0.6931471805599453\n",
      "valid_loss = 0.6931471805599453\n",
      "loss_w = 0.48205364323055855\n",
      "valid_loss = 0.48955723093103687\n",
      "loss_w = 0.8503099174956511\n",
      "valid_loss = 0.8600196882134002\n",
      "-------------------------\n",
      "m = 0.01\n",
      "loss_w = 0.6931471805599453\n",
      "valid_loss = 0.6931471805599453\n",
      "loss_w = 0.44798054423733336\n",
      "valid_loss = 0.4528065572249639\n",
      "loss_w = 0.5282554084901072\n",
      "valid_loss = 0.5335980436338639\n",
      "-------------------------\n",
      "m = 0.001\n",
      "loss_w = 0.6931471805599453\n",
      "valid_loss = 0.6931471805599453\n",
      "loss_w = 0.45189125412202175\n",
      "valid_loss = 0.45545780986163537\n",
      "loss_w = 0.44311666355019835\n",
      "valid_loss = 0.44694457509777846\n",
      "-------------------------\n",
      "m = 0.0001\n",
      "loss_w = 0.6931471805599453\n",
      "valid_loss = 0.6931471805599453\n",
      "loss_w = 0.44927252555338026\n",
      "valid_loss = 0.45284413217148795\n",
      "loss_w = 0.442922004848759\n",
      "valid_loss = 0.4467076217440467\n",
      "-------------------------\n",
      "m = 1e-05\n",
      "loss_w = 0.6931471805599453\n",
      "valid_loss = 0.6931471805599453\n",
      "loss_w = 0.44897198963880225\n",
      "valid_loss = 0.4525474315060961\n",
      "loss_w = 0.4429138313927041\n",
      "valid_loss = 0.44669810563555845\n",
      "-------------------------\n",
      "m = 1e-06\n",
      "loss_w = 0.6931471805599453\n",
      "valid_loss = 0.6931471805599453\n",
      "loss_w = 0.44894166999619284\n",
      "valid_loss = 0.45251752906918385\n",
      "loss_w = 0.44291298471881685\n",
      "valid_loss = 0.4466971549115629\n",
      "-------------------------\n"
     ]
    }
   ],
   "source": [
    "loss_list = []\n",
    "valid_loss_list = []\n",
    "\n",
    "for m in m_vals:\n",
    "    print('m = {}'.format(m))\n",
    "    w, losses, valid_losses = random_search(30, X_train, y_train, X_valid, y_valid, 1e-5, m, log_loss)\n",
    "    loss_list.append(losses)\n",
    "    valid_loss_list.append(valid_losses)\n",
    "    print('-------------------------')"
   ]
  },
  {
   "cell_type": "code",
   "execution_count": 13,
   "metadata": {},
   "outputs": [
    {
     "data": {
      "image/png": "[encoded data removed]",
      "text/plain": [
       "<Figure size 1296x720 with 6 Axes>"
      ]
     },
     "metadata": {
      "needs_background": "light"
     },
     "output_type": "display_data"
    }
   ],
   "source": [
    "fig, axs = plt.subplots(2,3,sharey=False, sharex=True, figsize=(18,10))\n",
    "\n",
    "for i in range(len(axs)):\n",
    "    for j in range(len(axs[0])):\n",
    "        n = i+j+2*i\n",
    "        axs[i,j].plot(list(range(30)), loss_list[n], label = 'train')\n",
    "        axs[i,j].plot(list(range(30)), valid_loss_list[n], label = 'test')\n",
    "        axs[i,j].set_xlabel('Epoch')\n",
    "        axs[i,j].set_ylabel('Error')\n",
    "        axs[i,j].set_title('m = {}'.format(m_vals[n]))\n",
    "        axs[i,j].grid()\n",
    "        axs[i,j].legend()\n",
    "        \n",
    "#plt.savefig('figs/m_tuning')"
   ]
  },
  {
   "cell_type": "code",
   "execution_count": 15,
   "metadata": {},
   "outputs": [
    {
     "name": "stdout",
     "output_type": "stream",
     "text": [
      "m = 0.1\n",
      "test error = 0.8608846367858282\n",
      "m = 0.01\n",
      "test error = 0.5134334899854723\n",
      "m = 0.001\n",
      "test error = 0.4529229071217992\n",
      "m = 0.0001\n",
      "test error = 0.45211098433474917\n",
      "m = 1e-05\n",
      "test error = 0.45203081946418994\n",
      "m = 1e-06\n",
      "test error = 0.45202279780153776\n"
     ]
    }
   ],
   "source": [
    "for i in range(len(m_vals)):\n",
    "    print('m = {}'.format(m_vals[i]))\n",
    "    print('test error = {}'.format(valid_loss_list[i][-1]))"
   ]
  },
  {
   "cell_type": "code",
   "execution_count": 16,
   "metadata": {},
   "outputs": [
    {
     "data": {
      "text/plain": [
       "1e-06"
      ]
     },
     "execution_count": 16,
     "metadata": {},
     "output_type": "execute_result"
    }
   ],
   "source": [
    "final_losses = [valid_loss_list[i][-1] for i in range(len(m_vals))]\n",
    "best_error = np.min(final_losses)\n",
    "best_error_ind = np.where(final_losses == best_error)\n",
    "best_m = m_vals[best_error_ind[0][0]]\n",
    "best_m"
   ]
  },
  {
   "cell_type": "markdown",
   "metadata": {},
   "source": [
    "Try more epochs with m=0.1:"
   ]
  },
  {
   "cell_type": "code",
   "execution_count": 17,
   "metadata": {},
   "outputs": [
    {
     "name": "stdout",
     "output_type": "stream",
     "text": [
      "loss_w = 0.6931471805599453\n",
      "valid_loss = 0.6931471805599453\n",
      "loss_w = 0.48160077625561143\n",
      "valid_loss = 0.49368752551342315\n",
      "loss_w = 0.8479304548004948\n",
      "valid_loss = 0.8803536123738706\n",
      "loss_w = 1.1407027121454985\n",
      "valid_loss = 1.1891206724244485\n",
      "loss_w = 1.031756454202564\n",
      "valid_loss = 1.0746365295742732\n",
      "loss_w = 1.0984917121201079\n",
      "valid_loss = 1.1481480953569905\n",
      "loss_w = 1.7437753991409881\n",
      "valid_loss = 1.8232647119557739\n",
      "loss_w = 2.1795477189887937\n",
      "valid_loss = 2.28216929583965\n",
      "loss_w = 2.5113620214074404\n",
      "valid_loss = 2.6281693046326318\n",
      "loss_w = 2.4915628677463686\n",
      "valid_loss = 2.6072870988117605\n",
      "loss_w = 2.4369991120743615\n",
      "valid_loss = 2.5506676793852376\n",
      "loss_w = 2.519399734171294\n",
      "valid_loss = 2.6365259560257535\n",
      "loss_w = 2.7084887542253977\n",
      "valid_loss = 2.8347795075097353\n",
      "loss_w = 2.863661315853814\n",
      "valid_loss = 2.99642070423812\n",
      "loss_w = 3.1064246096053663\n",
      "valid_loss = 3.2496118233634563\n",
      "loss_w = 3.33326443335225\n",
      "valid_loss = 3.487534101998017\n",
      "loss_w = 3.427894783116423\n",
      "valid_loss = 3.5853011949587104\n",
      "loss_w = 3.448143512552091\n",
      "valid_loss = 3.6055300520991014\n",
      "loss_w = 3.4173911130058428\n",
      "valid_loss = 3.5740699383651524\n",
      "loss_w = 3.71380606713991\n",
      "valid_loss = 3.8774296362016187\n",
      "loss_w = 3.956202577142694\n",
      "valid_loss = 4.127180058104991\n",
      "loss_w = 4.0919632089589\n",
      "valid_loss = 4.26839663723479\n",
      "loss_w = 4.262761164707544\n",
      "valid_loss = 4.442765424394174\n",
      "loss_w = 4.246641701793366\n",
      "valid_loss = 4.426425511123217\n",
      "loss_w = 4.5381389682479085\n",
      "valid_loss = 4.724946236408618\n",
      "loss_w = 4.541303321330823\n",
      "valid_loss = 4.728253779908139\n",
      "loss_w = 4.51051611938048\n",
      "valid_loss = 4.697721629919135\n",
      "loss_w = 4.514864316052787\n",
      "valid_loss = 4.702466875593681\n",
      "loss_w = 4.78518809763975\n",
      "valid_loss = 4.979068698806085\n",
      "loss_w = 4.923287058469995\n",
      "valid_loss = 5.107744795215826\n"
     ]
    }
   ],
   "source": [
    "w, losses, valid_losses = random_search(300, X_train, y_train, X_valid, y_valid, 1e-5, m_vals[0], log_loss)"
   ]
  },
  {
   "cell_type": "code",
   "execution_count": 18,
   "metadata": {},
   "outputs": [
    {
     "data": {
      "text/plain": [
       "<matplotlib.legend.Legend at 0x7fce18f39908>"
      ]
     },
     "execution_count": 18,
     "metadata": {},
     "output_type": "execute_result"
    },
    {
     "data": {
      "image/png": "[encoded data removed]",
      "text/plain": [
       "<Figure size 432x288 with 1 Axes>"
      ]
     },
     "metadata": {
      "needs_background": "light"
     },
     "output_type": "display_data"
    }
   ],
   "source": [
    "plt.plot(list(range(300)), losses, label = 'train')\n",
    "plt.plot(list(range(300)), valid_losses, label = 'test')\n",
    "plt.xlabel('Epoch')\n",
    "plt.ylabel('Error')\n",
    "plt.grid()\n",
    "plt.legend()"
   ]
  },
  {
   "cell_type": "markdown",
   "metadata": {},
   "source": [
    "Try more epochs with m=0.01:"
   ]
  },
  {
   "cell_type": "code",
   "execution_count": 19,
   "metadata": {},
   "outputs": [
    {
     "name": "stdout",
     "output_type": "stream",
     "text": [
      "loss_w = 0.6931471805599453\n",
      "valid_loss = 0.6931471805599453\n",
      "loss_w = 0.44710755528138973\n",
      "valid_loss = 0.45588600658691925\n",
      "loss_w = 0.5261608806103079\n",
      "valid_loss = 0.5455508025936248\n",
      "loss_w = 0.7975301975977\n",
      "valid_loss = 0.8327443355115678\n",
      "loss_w = 0.633637581194769\n",
      "valid_loss = 0.6600096228830419\n",
      "loss_w = 0.5316443051593478\n",
      "valid_loss = 0.5539499340801134\n",
      "loss_w = 0.6714140243655553\n",
      "valid_loss = 0.7010237667039773\n",
      "loss_w = 1.2055736775408354\n",
      "valid_loss = 1.2621957521213127\n",
      "loss_w = 1.0619146221398146\n",
      "valid_loss = 1.1119635946212003\n",
      "loss_w = 0.840663191460307\n",
      "valid_loss = 0.880211081470981\n",
      "loss_w = 0.6906401454715482\n",
      "valid_loss = 0.7237614595023844\n",
      "loss_w = 0.6539982130393932\n",
      "valid_loss = 0.6851559589039755\n",
      "loss_w = 0.5970212944174242\n",
      "valid_loss = 0.6253714853432042\n",
      "loss_w = 0.5787531812768852\n",
      "valid_loss = 0.6058743782279491\n",
      "loss_w = 0.564442448238361\n",
      "valid_loss = 0.590741773174096\n",
      "loss_w = 0.586851537747702\n",
      "valid_loss = 0.6149707463222608\n",
      "loss_w = 0.5599359091700734\n",
      "valid_loss = 0.5866001582329671\n",
      "loss_w = 0.4817004612549742\n",
      "valid_loss = 0.5018473659580273\n",
      "loss_w = 0.46802693421108865\n",
      "valid_loss = 0.48632097728934387\n",
      "loss_w = 0.8235356625988021\n",
      "valid_loss = 0.8591770714919059\n",
      "loss_w = 0.7692740341953332\n",
      "valid_loss = 0.8041270750759274\n",
      "loss_w = 0.7223656813953223\n",
      "valid_loss = 0.7551097926982401\n",
      "loss_w = 0.6827044633060015\n",
      "valid_loss = 0.7120195965837066\n",
      "loss_w = 0.6264400078167791\n",
      "valid_loss = 0.6538501749552502\n",
      "loss_w = 0.9528894564389998\n",
      "valid_loss = 0.9983668993363801\n",
      "loss_w = 0.7910603974769979\n",
      "valid_loss = 0.8297851734863816\n",
      "loss_w = 0.6342678868740704\n",
      "valid_loss = 0.6643766764497296\n",
      "loss_w = 0.5668660730584505\n",
      "valid_loss = 0.5933654703511586\n",
      "loss_w = 0.8480883664769104\n",
      "valid_loss = 0.8896754876963542\n",
      "loss_w = 0.7342629890220099\n",
      "valid_loss = 0.770856668150034\n"
     ]
    }
   ],
   "source": [
    "w, losses, valid_losses = random_search(300, X_train, y_train, X_valid, y_valid, 1e-5, m_vals[1], log_loss)"
   ]
  },
  {
   "cell_type": "code",
   "execution_count": 21,
   "metadata": {},
   "outputs": [
    {
     "data": {
      "text/plain": [
       "<matplotlib.legend.Legend at 0x7fce18cc4048>"
      ]
     },
     "execution_count": 21,
     "metadata": {},
     "output_type": "execute_result"
    },
    {
     "data": {
      "image/png": "[encoded data removed]",
      "text/plain": [
       "<Figure size 432x288 with 1 Axes>"
      ]
     },
     "metadata": {
      "needs_background": "light"
     },
     "output_type": "display_data"
    }
   ],
   "source": [
    "plt.plot(list(range(300)), losses, label = 'train')\n",
    "plt.plot(list(range(300)), valid_losses, label = 'test')\n",
    "plt.xlabel('Epoch')\n",
    "plt.ylabel('Error')\n",
    "plt.grid()\n",
    "plt.legend()"
   ]
  },
  {
   "cell_type": "markdown",
   "metadata": {},
   "source": [
    "#### Plots for m"
   ]
  },
  {
   "cell_type": "code",
   "execution_count": 22,
   "metadata": {},
   "outputs": [],
   "source": [
    "m_vals = [0.1, best_m, 1e-20]"
   ]
  },
  {
   "cell_type": "code",
   "execution_count": 23,
   "metadata": {},
   "outputs": [
    {
     "name": "stdout",
     "output_type": "stream",
     "text": [
      "m = 0.1\n",
      "loss_w = 0.6931471805599453\n",
      "valid_loss = 0.6931471805599453\n",
      "loss_w = 0.48160077625561143\n",
      "valid_loss = 0.49368752551342315\n",
      "loss_w = 0.8479304548004948\n",
      "valid_loss = 0.8803536123738706\n",
      "-------------------------\n",
      "m = 1e-06\n",
      "loss_w = 0.6931471805599453\n",
      "valid_loss = 0.6931471805599453\n",
      "loss_w = 0.44765893565031484\n",
      "valid_loss = 0.45697331526041723\n",
      "loss_w = 0.4413710069885429\n",
      "valid_loss = 0.45232620659464173\n",
      "-------------------------\n",
      "m = 1e-20\n",
      "loss_w = 0.6931471805599453\n",
      "valid_loss = 0.6931471805599453\n",
      "loss_w = 0.6931471805599453\n",
      "valid_loss = 0.6931471805599453\n",
      "loss_w = 0.6931471805599453\n",
      "valid_loss = 0.6931471805599453\n",
      "-------------------------\n"
     ]
    }
   ],
   "source": [
    "loss_list = []\n",
    "valid_loss_list = []\n",
    "\n",
    "for m in m_vals:\n",
    "    print('m = {}'.format(m))\n",
    "    w, losses, valid_losses = random_search(30, X_train, y_train, X_valid, y_valid, 1e-5, m, log_loss)\n",
    "    loss_list.append(losses)\n",
    "    valid_loss_list.append(valid_losses)\n",
    "    print('-------------------------')"
   ]
  },
  {
   "cell_type": "code",
   "execution_count": 25,
   "metadata": {},
   "outputs": [
    {
     "data": {
      "image/png": "[encoded data removed]",
      "text/plain": [
       "<Figure size 1080x216 with 3 Axes>"
      ]
     },
     "metadata": {
      "needs_background": "light"
     },
     "output_type": "display_data"
    }
   ],
   "source": [
    "fig, axs = plt.subplots(1,3,sharey=False, sharex=True, figsize=(15,3))\n",
    "\n",
    "for i in range(len(axs)):\n",
    "    axs[i].plot(list(range(30)), loss_list[i], label = 'train')\n",
    "    axs[i].plot(list(range(30)), valid_loss_list[i], label = 'test')\n",
    "    axs[i].set_xlabel('Epoch')\n",
    "    axs[i].set_ylabel('Error')\n",
    "    axs[i].set_title('m = {}'.format(m_vals[i]))\n",
    "    axs[i].grid()\n",
    "    axs[i].legend()\n",
    "    \n",
    "plt.savefig('figs/m_examples')"
   ]
  },
  {
   "cell_type": "markdown",
   "metadata": {},
   "source": [
    "## SGD"
   ]
  },
  {
   "cell_type": "code",
   "execution_count": 14,
   "metadata": {},
   "outputs": [],
   "source": [
    "from sklearn.linear_model import LogisticRegression, SGDClassifier"
   ]
  },
  {
   "cell_type": "code",
   "execution_count": 15,
   "metadata": {},
   "outputs": [],
   "source": [
    "model = SGDClassifier(loss = 'log', verbose=2, fit_intercept = True, learning_rate = 'constant', eta0 = 1e-5)#, max_iter=1000)"
   ]
  },
  {
   "cell_type": "code",
   "execution_count": 16,
   "metadata": {},
   "outputs": [
    {
     "name": "stdout",
     "output_type": "stream",
     "text": [
      "-- Epoch 1\n",
      "Norm: 0.03, NNZs: 16, Bias: -0.000367, T: 2925, Avg. loss: 0.474351\n",
      "Total training time: 0.00 seconds.\n",
      "-- Epoch 2\n",
      "Norm: 0.04, NNZs: 16, Bias: -0.000626, T: 5850, Avg. loss: 0.461767\n",
      "Total training time: 0.00 seconds.\n",
      "-- Epoch 3\n",
      "Norm: 0.05, NNZs: 16, Bias: -0.000918, T: 8775, Avg. loss: 0.453042\n",
      "Total training time: 0.01 seconds.\n",
      "-- Epoch 4\n",
      "Norm: 0.05, NNZs: 16, Bias: -0.001166, T: 11700, Avg. loss: 0.458623\n",
      "Total training time: 0.01 seconds.\n",
      "-- Epoch 5\n",
      "Norm: 0.06, NNZs: 16, Bias: -0.001412, T: 14625, Avg. loss: 0.452946\n",
      "Total training time: 0.01 seconds.\n",
      "-- Epoch 6\n",
      "Norm: 0.06, NNZs: 16, Bias: -0.001675, T: 17550, Avg. loss: 0.451976\n",
      "Total training time: 0.01 seconds.\n",
      "-- Epoch 7\n",
      "Norm: 0.06, NNZs: 16, Bias: -0.001890, T: 20475, Avg. loss: 0.452556\n",
      "Total training time: 0.01 seconds.\n",
      "-- Epoch 8\n",
      "Norm: 0.07, NNZs: 16, Bias: -0.002147, T: 23400, Avg. loss: 0.446556\n",
      "Total training time: 0.01 seconds.\n",
      "-- Epoch 9\n",
      "Norm: 0.07, NNZs: 16, Bias: -0.002379, T: 26325, Avg. loss: 0.445859\n",
      "Total training time: 0.01 seconds.\n",
      "-- Epoch 10\n",
      "Norm: 0.07, NNZs: 16, Bias: -0.002627, T: 29250, Avg. loss: 0.448844\n",
      "Total training time: 0.02 seconds.\n",
      "-- Epoch 11\n",
      "Norm: 0.07, NNZs: 16, Bias: -0.002863, T: 32175, Avg. loss: 0.448350\n",
      "Total training time: 0.02 seconds.\n",
      "-- Epoch 12\n",
      "Norm: 0.07, NNZs: 16, Bias: -0.003086, T: 35100, Avg. loss: 0.446493\n",
      "Total training time: 0.02 seconds.\n",
      "-- Epoch 13\n",
      "Norm: 0.07, NNZs: 16, Bias: -0.003325, T: 38025, Avg. loss: 0.444507\n",
      "Total training time: 0.02 seconds.\n",
      "-- Epoch 14\n",
      "Norm: 0.08, NNZs: 16, Bias: -0.003547, T: 40950, Avg. loss: 0.447264\n",
      "Total training time: 0.02 seconds.\n",
      "-- Epoch 15\n",
      "Norm: 0.08, NNZs: 16, Bias: -0.003797, T: 43875, Avg. loss: 0.453614\n",
      "Total training time: 0.02 seconds.\n",
      "-- Epoch 16\n",
      "Norm: 0.08, NNZs: 16, Bias: -0.004041, T: 46800, Avg. loss: 0.449907\n",
      "Total training time: 0.02 seconds.\n",
      "-- Epoch 17\n",
      "Norm: 0.08, NNZs: 16, Bias: -0.004265, T: 49725, Avg. loss: 0.454152\n",
      "Total training time: 0.02 seconds.\n",
      "-- Epoch 18\n",
      "Norm: 0.08, NNZs: 16, Bias: -0.004483, T: 52650, Avg. loss: 0.452946\n",
      "Total training time: 0.02 seconds.\n",
      "Convergence after 18 epochs took 0.02 seconds\n"
     ]
    },
    {
     "data": {
      "text/plain": [
       "SGDClassifier(eta0=1e-05, learning_rate='constant', loss='log', verbose=2)"
      ]
     },
     "execution_count": 16,
     "metadata": {},
     "output_type": "execute_result"
    }
   ],
   "source": [
    "model.fit(X_train, y_train)"
   ]
  },
  {
   "cell_type": "code",
   "execution_count": 17,
   "metadata": {},
   "outputs": [
    {
     "name": "stdout",
     "output_type": "stream",
     "text": [
      "training loss with SGD optimizer: 0.4290655502275413\n",
      "training loss with zero-order optimizer: 0.44247102109292497\n",
      "test loss with SGD optimizer: 0.4383425627738987\n",
      "test loss with zero-order optimizer: 0.44634154365366857\n"
     ]
    }
   ],
   "source": [
    "w = model.coef_\n",
    "\n",
    "pred_tr = sigmoid(X_train.dot(w.T))\n",
    "sgd_loss_tr = log_loss(y_train, pred_tr)\n",
    "print('training loss with SGD optimizer: {}'.format(sgd_loss_tr))\n",
    "print('training loss with zero-order optimizer: {}'.format(losses1[-1]))\n",
    "\n",
    "pred = sigmoid(X_valid.dot(w.T))\n",
    "sgd_loss_valid = log_loss(y_valid, pred)\n",
    "print('test loss with SGD optimizer: {}'.format(sgd_loss_valid))\n",
    "print('test loss with zero-order optimizer: {}'.format(valid_losses1[-1]))"
   ]
  },
  {
   "cell_type": "code",
   "execution_count": null,
   "metadata": {},
   "outputs": [],
   "source": [
    "1e-2"
   ]
  },
  {
   "cell_type": "code",
   "execution_count": null,
   "metadata": {},
   "outputs": [],
   "source": [
    "10**(-2)"
   ]
  },
  {
   "cell_type": "code",
   "execution_count": null,
   "metadata": {},
   "outputs": [],
   "source": []
  }
 ],
 "metadata": {
  "kernelspec": {
   "display_name": "Python 3",
   "language": "python",
   "name": "python3"
  },
  "language_info": {
   "codemirror_mode": {
    "name": "ipython",
    "version": 3
   },
   "file_extension": ".py",
   "mimetype": "text/x-python",
   "name": "python",
   "nbconvert_exporter": "python",
   "pygments_lexer": "ipython3",
   "version": "3.6.9"
  }
 },
 "nbformat": 4,
 "nbformat_minor": 4
}
