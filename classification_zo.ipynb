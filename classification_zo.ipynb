{
 "cells": [
  {
   "cell_type": "code",
   "execution_count": 1,
   "metadata": {},
   "outputs": [],
   "source": [
    "from random_search import *\n",
    "import pandas as pd\n",
    "import numpy as np\n",
    "import matplotlib.pyplot as plt\n",
    "import seaborn as sns#\n",
    "import math\n",
    "from sklearn.metrics import log_loss\n",
    "from sklearn.preprocessing import OneHotEncoder\n",
    "from sklearn.preprocessing import Normalizer"
   ]
  },
  {
   "cell_type": "markdown",
   "metadata": {},
   "source": [
    "## Load and prepare data"
   ]
  },
  {
   "cell_type": "code",
   "execution_count": 2,
   "metadata": {},
   "outputs": [],
   "source": [
    "df = pd.read_csv('data/framingham.csv')\n",
    "df = df.dropna()"
   ]
  },
  {
   "cell_type": "code",
   "execution_count": 3,
   "metadata": {},
   "outputs": [
    {
     "data": {
      "text/html": [
       "<div>\n",
       "<style scoped>\n",
       "    .dataframe tbody tr th:only-of-type {\n",
       "        vertical-align: middle;\n",
       "    }\n",
       "\n",
       "    .dataframe tbody tr th {\n",
       "        vertical-align: top;\n",
       "    }\n",
       "\n",
       "    .dataframe thead th {\n",
       "        text-align: right;\n",
       "    }\n",
       "</style>\n",
       "<table border=\"1\" class=\"dataframe\">\n",
       "  <thead>\n",
       "    <tr style=\"text-align: right;\">\n",
       "      <th></th>\n",
       "      <th>male</th>\n",
       "      <th>age</th>\n",
       "      <th>education</th>\n",
       "      <th>currentSmoker</th>\n",
       "      <th>cigsPerDay</th>\n",
       "      <th>BPMeds</th>\n",
       "      <th>prevalentStroke</th>\n",
       "      <th>prevalentHyp</th>\n",
       "      <th>diabetes</th>\n",
       "      <th>totChol</th>\n",
       "      <th>sysBP</th>\n",
       "      <th>diaBP</th>\n",
       "      <th>BMI</th>\n",
       "      <th>heartRate</th>\n",
       "      <th>glucose</th>\n",
       "      <th>TenYearCHD</th>\n",
       "    </tr>\n",
       "  </thead>\n",
       "  <tbody>\n",
       "    <tr>\n",
       "      <th>0</th>\n",
       "      <td>1</td>\n",
       "      <td>39</td>\n",
       "      <td>4.0</td>\n",
       "      <td>0</td>\n",
       "      <td>0.0</td>\n",
       "      <td>0.0</td>\n",
       "      <td>0</td>\n",
       "      <td>0</td>\n",
       "      <td>0</td>\n",
       "      <td>195.0</td>\n",
       "      <td>106.0</td>\n",
       "      <td>70.0</td>\n",
       "      <td>26.97</td>\n",
       "      <td>80.0</td>\n",
       "      <td>77.0</td>\n",
       "      <td>0</td>\n",
       "    </tr>\n",
       "    <tr>\n",
       "      <th>1</th>\n",
       "      <td>0</td>\n",
       "      <td>46</td>\n",
       "      <td>2.0</td>\n",
       "      <td>0</td>\n",
       "      <td>0.0</td>\n",
       "      <td>0.0</td>\n",
       "      <td>0</td>\n",
       "      <td>0</td>\n",
       "      <td>0</td>\n",
       "      <td>250.0</td>\n",
       "      <td>121.0</td>\n",
       "      <td>81.0</td>\n",
       "      <td>28.73</td>\n",
       "      <td>95.0</td>\n",
       "      <td>76.0</td>\n",
       "      <td>0</td>\n",
       "    </tr>\n",
       "    <tr>\n",
       "      <th>2</th>\n",
       "      <td>1</td>\n",
       "      <td>48</td>\n",
       "      <td>1.0</td>\n",
       "      <td>1</td>\n",
       "      <td>20.0</td>\n",
       "      <td>0.0</td>\n",
       "      <td>0</td>\n",
       "      <td>0</td>\n",
       "      <td>0</td>\n",
       "      <td>245.0</td>\n",
       "      <td>127.5</td>\n",
       "      <td>80.0</td>\n",
       "      <td>25.34</td>\n",
       "      <td>75.0</td>\n",
       "      <td>70.0</td>\n",
       "      <td>0</td>\n",
       "    </tr>\n",
       "    <tr>\n",
       "      <th>3</th>\n",
       "      <td>0</td>\n",
       "      <td>61</td>\n",
       "      <td>3.0</td>\n",
       "      <td>1</td>\n",
       "      <td>30.0</td>\n",
       "      <td>0.0</td>\n",
       "      <td>0</td>\n",
       "      <td>1</td>\n",
       "      <td>0</td>\n",
       "      <td>225.0</td>\n",
       "      <td>150.0</td>\n",
       "      <td>95.0</td>\n",
       "      <td>28.58</td>\n",
       "      <td>65.0</td>\n",
       "      <td>103.0</td>\n",
       "      <td>1</td>\n",
       "    </tr>\n",
       "    <tr>\n",
       "      <th>4</th>\n",
       "      <td>0</td>\n",
       "      <td>46</td>\n",
       "      <td>3.0</td>\n",
       "      <td>1</td>\n",
       "      <td>23.0</td>\n",
       "      <td>0.0</td>\n",
       "      <td>0</td>\n",
       "      <td>0</td>\n",
       "      <td>0</td>\n",
       "      <td>285.0</td>\n",
       "      <td>130.0</td>\n",
       "      <td>84.0</td>\n",
       "      <td>23.10</td>\n",
       "      <td>85.0</td>\n",
       "      <td>85.0</td>\n",
       "      <td>0</td>\n",
       "    </tr>\n",
       "  </tbody>\n",
       "</table>\n",
       "</div>"
      ],
      "text/plain": [
       "   male  age  education  currentSmoker  cigsPerDay  BPMeds  prevalentStroke  \\\n",
       "0     1   39        4.0              0         0.0     0.0                0   \n",
       "1     0   46        2.0              0         0.0     0.0                0   \n",
       "2     1   48        1.0              1        20.0     0.0                0   \n",
       "3     0   61        3.0              1        30.0     0.0                0   \n",
       "4     0   46        3.0              1        23.0     0.0                0   \n",
       "\n",
       "   prevalentHyp  diabetes  totChol  sysBP  diaBP    BMI  heartRate  glucose  \\\n",
       "0             0         0    195.0  106.0   70.0  26.97       80.0     77.0   \n",
       "1             0         0    250.0  121.0   81.0  28.73       95.0     76.0   \n",
       "2             0         0    245.0  127.5   80.0  25.34       75.0     70.0   \n",
       "3             1         0    225.0  150.0   95.0  28.58       65.0    103.0   \n",
       "4             0         0    285.0  130.0   84.0  23.10       85.0     85.0   \n",
       "\n",
       "   TenYearCHD  \n",
       "0           0  \n",
       "1           0  \n",
       "2           0  \n",
       "3           1  \n",
       "4           0  "
      ]
     },
     "execution_count": 3,
     "metadata": {},
     "output_type": "execute_result"
    }
   ],
   "source": [
    "df.head()"
   ]
  },
  {
   "cell_type": "markdown",
   "metadata": {},
   "source": [
    "### Train-test split"
   ]
  },
  {
   "cell_type": "code",
   "execution_count": 4,
   "metadata": {},
   "outputs": [],
   "source": [
    "df_train = df.sample(frac=0.66)\n",
    "df_valid = df.drop(df_train.index)"
   ]
  },
  {
   "cell_type": "code",
   "execution_count": 5,
   "metadata": {},
   "outputs": [],
   "source": [
    "X_train = df_train[['male', 'age', 'education', 'currentSmoker',\n",
    "                    'cigsPerDay', 'BPMeds', 'prevalentStroke',\n",
    "                    'prevalentHyp', 'diabetes', 'totChol', \n",
    "                    'sysBP', 'diaBP', 'BMI', 'heartRate', 'glucose'\n",
    "                   ]].to_numpy()\n",
    "y_train = df_train['TenYearCHD'].to_numpy()\n",
    "\n",
    "X_valid = df_valid[['male', 'age', 'education', 'currentSmoker',\n",
    "                    'cigsPerDay', 'BPMeds', 'prevalentStroke',\n",
    "                    'prevalentHyp', 'diabetes', 'totChol', \n",
    "                    'sysBP', 'diaBP', 'BMI', 'heartRate', 'glucose'\n",
    "                   ]].to_numpy()\n",
    "y_valid = df_valid['TenYearCHD'].to_numpy()"
   ]
  },
  {
   "cell_type": "code",
   "execution_count": 6,
   "metadata": {},
   "outputs": [],
   "source": [
    "X_train = np.c_[np.ones((y_train.shape[0], 1)), X_train]\n",
    "X_valid = np.c_[np.ones((y_valid.shape[0], 1)), X_valid]"
   ]
  },
  {
   "cell_type": "code",
   "execution_count": 7,
   "metadata": {},
   "outputs": [
    {
     "data": {
      "text/plain": [
       "(2413, 16)"
      ]
     },
     "execution_count": 7,
     "metadata": {},
     "output_type": "execute_result"
    }
   ],
   "source": [
    "X_train.shape"
   ]
  },
  {
   "cell_type": "markdown",
   "metadata": {},
   "source": [
    "### Parameter m - tuning"
   ]
  },
  {
   "cell_type": "code",
   "execution_count": 9,
   "metadata": {},
   "outputs": [],
   "source": [
    "m_vals = [1e-1, 1e-2, 1e-3, 1e-4, 1e-5, 1e-6]\n",
    "epochs = 20"
   ]
  },
  {
   "cell_type": "code",
   "execution_count": 19,
   "metadata": {},
   "outputs": [
    {
     "name": "stdout",
     "output_type": "stream",
     "text": [
      "m = 0.1\n",
      "loss_w = 0.6931471805599453\n",
      "valid_loss = 0.6931471805599454\n",
      "loss_w = 0.5925424118687255\n",
      "valid_loss = 0.5928565716102131\n",
      "-------------------------\n",
      "m = 0.01\n",
      "loss_w = 0.6931471805599453\n",
      "valid_loss = 0.6931471805599454\n",
      "loss_w = 0.6560436266157725\n",
      "valid_loss = 0.6562294582864736\n",
      "-------------------------\n",
      "m = 0.001\n",
      "loss_w = 0.6931471805599453\n",
      "valid_loss = 0.6931471805599454\n",
      "loss_w = 0.46004078282374056\n",
      "valid_loss = 0.4620503865688111\n",
      "-------------------------\n",
      "m = 0.0001\n",
      "loss_w = 0.6931471805599453\n",
      "valid_loss = 0.6931471805599454\n",
      "loss_w = 0.4450658430114591\n",
      "valid_loss = 0.44769948020008915\n",
      "-------------------------\n",
      "m = 1e-05\n",
      "loss_w = 0.6931471805599453\n",
      "valid_loss = 0.6931471805599454\n",
      "loss_w = 0.44438049847483224\n",
      "valid_loss = 0.4470847523328746\n",
      "-------------------------\n",
      "m = 1e-06\n",
      "loss_w = 0.6931471805599453\n",
      "valid_loss = 0.6931471805599454\n",
      "loss_w = 0.4443209910015246\n",
      "valid_loss = 0.4470323830212206\n",
      "-------------------------\n"
     ]
    }
   ],
   "source": [
    "loss_list = []\n",
    "valid_loss_list = []\n",
    "\n",
    "for m in m_vals:\n",
    "    # set seed to get consistent results\n",
    "    np.random.seed(987654)\n",
    "    print('m = {}'.format(m))\n",
    "    w, losses, valid_losses = random_search(epochs, X_train, y_train, X_valid, y_valid, 1e-5, m, log_loss)\n",
    "    loss_list.append(losses)\n",
    "    valid_loss_list.append(valid_losses)\n",
    "    print('-------------------------')"
   ]
  },
  {
   "cell_type": "code",
   "execution_count": 20,
   "metadata": {},
   "outputs": [
    {
     "data": {
      "image/png": "[encoded data removed]",
      "text/plain": [
       "<Figure size 1296x720 with 6 Axes>"
      ]
     },
     "metadata": {
      "needs_background": "light"
     },
     "output_type": "display_data"
    }
   ],
   "source": [
    "fig, axs = plt.subplots(2,3,sharey=False, sharex=True, figsize=(18,10))\n",
    "\n",
    "for i in range(len(axs)):\n",
    "    for j in range(len(axs[0])):\n",
    "        n = i+j+2*i\n",
    "        axs[i,j].plot(list(range(epochs)), loss_list[n], label = 'train')\n",
    "        axs[i,j].plot(list(range(epochs)), valid_loss_list[n], label = 'test')\n",
    "        axs[i,j].set_xlabel('Epoch')\n",
    "        axs[i,j].set_ylabel('Error')\n",
    "        axs[i,j].set_title('m = {}'.format(m_vals[n]))\n",
    "        axs[i,j].grid()\n",
    "        axs[i,j].legend()\n",
    "        \n",
    "#plt.savefig('figs/m_tuning')"
   ]
  },
  {
   "cell_type": "code",
   "execution_count": 21,
   "metadata": {},
   "outputs": [
    {
     "name": "stdout",
     "output_type": "stream",
     "text": [
      "m = 0.1\n",
      "test error = 0.6528614104016202\n",
      "m = 0.01\n",
      "test error = 0.5050507655879429\n",
      "m = 0.001\n",
      "test error = 0.4462295811085112\n",
      "m = 0.0001\n",
      "test error = 0.446236289341524\n",
      "m = 1e-05\n",
      "test error = 0.446220428302977\n",
      "m = 1e-06\n",
      "test error = 0.44621871845312755\n"
     ]
    }
   ],
   "source": [
    "for i in range(len(m_vals)):\n",
    "    print('m = {}'.format(m_vals[i]))\n",
    "    print('test error = {}'.format(valid_loss_list[i][-1]))"
   ]
  },
  {
   "cell_type": "code",
   "execution_count": 22,
   "metadata": {},
   "outputs": [
    {
     "data": {
      "text/plain": [
       "1e-06"
      ]
     },
     "execution_count": 22,
     "metadata": {},
     "output_type": "execute_result"
    }
   ],
   "source": [
    "final_losses = [valid_loss_list[i][-1] for i in range(len(m_vals))]\n",
    "best_error = np.min(final_losses)\n",
    "best_error_ind = np.where(final_losses == best_error)\n",
    "best_m = m_vals[best_error_ind[0][0]]\n",
    "best_m"
   ]
  },
  {
   "cell_type": "markdown",
   "metadata": {},
   "source": [
    "#### Plots for m"
   ]
  },
  {
   "cell_type": "code",
   "execution_count": 23,
   "metadata": {},
   "outputs": [],
   "source": [
    "m_vals = [0.1, best_m, 1e-20]"
   ]
  },
  {
   "cell_type": "code",
   "execution_count": 26,
   "metadata": {},
   "outputs": [
    {
     "name": "stdout",
     "output_type": "stream",
     "text": [
      "m = 0.1\n",
      "loss_w = 0.6931471805599453\n",
      "valid_loss = 0.6931471805599454\n",
      "loss_w = 0.5925424118687255\n",
      "valid_loss = 0.5928565716102131\n",
      "-------------------------\n",
      "m = 1e-06\n",
      "loss_w = 0.6931471805599453\n",
      "valid_loss = 0.6931471805599454\n",
      "loss_w = 0.4443209910015246\n",
      "valid_loss = 0.4470323830212206\n",
      "-------------------------\n",
      "m = 1e-20\n",
      "loss_w = 0.6931471805599453\n",
      "valid_loss = 0.6931471805599454\n",
      "loss_w = 0.6931471805599453\n",
      "valid_loss = 0.6931471805599454\n",
      "-------------------------\n"
     ]
    }
   ],
   "source": [
    "loss_list = []\n",
    "valid_loss_list = []\n",
    "\n",
    "for m in m_vals:\n",
    "    np.random.seed(987654)\n",
    "    print('m = {}'.format(m))\n",
    "    w, losses, valid_losses = random_search(epochs, X_train, y_train, X_valid, y_valid, 1e-5, m, log_loss)\n",
    "    loss_list.append(losses)\n",
    "    valid_loss_list.append(valid_losses)\n",
    "    print('-------------------------')"
   ]
  },
  {
   "cell_type": "code",
   "execution_count": 27,
   "metadata": {},
   "outputs": [
    {
     "data": {
      "image/png": "[encoded data removed]",
      "text/plain": [
       "<Figure size 1080x288 with 3 Axes>"
      ]
     },
     "metadata": {
      "needs_background": "light"
     },
     "output_type": "display_data"
    }
   ],
   "source": [
    "fig, axs = plt.subplots(1,3,sharey=False, sharex=True, figsize=(15,4))\n",
    "\n",
    "for i in range(len(axs)):\n",
    "    axs[i].plot(list(range(epochs)), loss_list[i], label = 'train')\n",
    "    axs[i].plot(list(range(epochs)), valid_loss_list[i], label = 'test')\n",
    "    axs[i].set_xlabel('Epoch')\n",
    "    axs[i].set_ylabel('Error')\n",
    "    axs[i].set_title('m = {}'.format(m_vals[i]))\n",
    "    axs[i].grid()\n",
    "    axs[i].legend()\n",
    "    \n",
    "plt.savefig('figs/m_examples')"
   ]
  },
  {
   "cell_type": "markdown",
   "metadata": {},
   "source": [
    "### Train with best m value"
   ]
  },
  {
   "cell_type": "code",
   "execution_count": 28,
   "metadata": {},
   "outputs": [],
   "source": [
    "epochs = 20"
   ]
  },
  {
   "cell_type": "code",
   "execution_count": 42,
   "metadata": {},
   "outputs": [
    {
     "name": "stdout",
     "output_type": "stream",
     "text": [
      "loss_w = 0.6931471805599453\n",
      "valid_loss = 0.6931471805599454\n",
      "loss_w = 0.4443209910015246\n",
      "valid_loss = 0.4470323830212206\n"
     ]
    }
   ],
   "source": [
    "np.random.seed(987654)\n",
    "w1, losses1, valid_losses1 = random_search(epochs, X_train, y_train, X_valid, y_valid, gamma=0.00001, m=best_m, loss=log_loss)"
   ]
  },
  {
   "cell_type": "code",
   "execution_count": 43,
   "metadata": {},
   "outputs": [
    {
     "data": {
      "text/plain": [
       "<matplotlib.legend.Legend at 0x7f93252720f0>"
      ]
     },
     "execution_count": 43,
     "metadata": {},
     "output_type": "execute_result"
    },
    {
     "data": {
      "image/png": "[encoded data removed]",
      "text/plain": [
       "<Figure size 432x288 with 1 Axes>"
      ]
     },
     "metadata": {
      "needs_background": "light"
     },
     "output_type": "display_data"
    }
   ],
   "source": [
    "plt.plot(list(range(20)), losses1, label = 'train')\n",
    "plt.plot(list(range(20)), valid_losses1, label = 'test')\n",
    "plt.xlabel('Epoch')\n",
    "plt.ylabel('Error')\n",
    "plt.grid()\n",
    "plt.legend()\n",
    "#plt.savefig('figs/zo_classification')"
   ]
  },
  {
   "cell_type": "markdown",
   "metadata": {},
   "source": [
    "## SGD"
   ]
  },
  {
   "cell_type": "code",
   "execution_count": 38,
   "metadata": {},
   "outputs": [],
   "source": [
    "from sklearn.linear_model import SGDClassifier"
   ]
  },
  {
   "cell_type": "code",
   "execution_count": 39,
   "metadata": {},
   "outputs": [],
   "source": [
    "model = SGDClassifier(loss = 'log', verbose=2, fit_intercept = True, learning_rate = 'constant', eta0 = 1e-5)#, max_iter=1000)"
   ]
  },
  {
   "cell_type": "code",
   "execution_count": 40,
   "metadata": {
    "collapsed": true,
    "jupyter": {
     "outputs_hidden": true
    }
   },
   "outputs": [
    {
     "name": "stdout",
     "output_type": "stream",
     "text": [
      "-- Epoch 1\n",
      "Norm: 0.02, NNZs: 16, Bias: -0.000279, T: 2413, Avg. loss: 0.469295\n",
      "Total training time: 0.00 seconds.\n",
      "-- Epoch 2\n",
      "Norm: 0.03, NNZs: 16, Bias: -0.000517, T: 4826, Avg. loss: 0.463146\n",
      "Total training time: 0.00 seconds.\n",
      "-- Epoch 3\n",
      "Norm: 0.04, NNZs: 16, Bias: -0.000769, T: 7239, Avg. loss: 0.458510\n",
      "Total training time: 0.00 seconds.\n",
      "-- Epoch 4\n",
      "Norm: 0.04, NNZs: 16, Bias: -0.000982, T: 9652, Avg. loss: 0.458773\n",
      "Total training time: 0.00 seconds.\n",
      "-- Epoch 5\n",
      "Norm: 0.05, NNZs: 16, Bias: -0.001180, T: 12065, Avg. loss: 0.453383\n",
      "Total training time: 0.01 seconds.\n",
      "-- Epoch 6\n",
      "Norm: 0.05, NNZs: 16, Bias: -0.001391, T: 14478, Avg. loss: 0.456439\n",
      "Total training time: 0.03 seconds.\n",
      "-- Epoch 7\n",
      "Norm: 0.05, NNZs: 16, Bias: -0.001556, T: 16891, Avg. loss: 0.448866\n",
      "Total training time: 0.03 seconds.\n",
      "-- Epoch 8\n",
      "Norm: 0.06, NNZs: 16, Bias: -0.001758, T: 19304, Avg. loss: 0.453667\n",
      "Total training time: 0.03 seconds.\n",
      "-- Epoch 9\n",
      "Norm: 0.06, NNZs: 16, Bias: -0.001957, T: 21717, Avg. loss: 0.454304\n",
      "Total training time: 0.04 seconds.\n",
      "-- Epoch 10\n",
      "Norm: 0.06, NNZs: 16, Bias: -0.002147, T: 24130, Avg. loss: 0.453481\n",
      "Total training time: 0.04 seconds.\n",
      "-- Epoch 11\n",
      "Norm: 0.06, NNZs: 16, Bias: -0.002340, T: 26543, Avg. loss: 0.450870\n",
      "Total training time: 0.04 seconds.\n",
      "-- Epoch 12\n",
      "Norm: 0.06, NNZs: 16, Bias: -0.002520, T: 28956, Avg. loss: 0.452300\n",
      "Total training time: 0.04 seconds.\n",
      "Convergence after 12 epochs took 0.04 seconds\n"
     ]
    },
    {
     "data": {
      "text/plain": [
       "SGDClassifier(eta0=1e-05, learning_rate='constant', loss='log', verbose=2)"
      ]
     },
     "execution_count": 40,
     "metadata": {},
     "output_type": "execute_result"
    }
   ],
   "source": [
    "model.fit(X_train, y_train)"
   ]
  },
  {
   "cell_type": "code",
   "execution_count": 44,
   "metadata": {},
   "outputs": [
    {
     "name": "stdout",
     "output_type": "stream",
     "text": [
      "training loss with SGD optimizer: 0.41496670003074226\n",
      "training loss with zero-order optimizer: 0.44326154072527146\n",
      "test loss with SGD optimizer: 0.4155329480662962\n",
      "test loss with zero-order optimizer: 0.44621871845312755\n"
     ]
    }
   ],
   "source": [
    "w = model.coef_\n",
    "\n",
    "pred_tr = sigmoid(X_train.dot(w.T))\n",
    "sgd_loss_tr = log_loss(y_train, pred_tr)\n",
    "print('training loss with SGD optimizer: {}'.format(sgd_loss_tr))\n",
    "print('training loss with zero-order optimizer: {}'.format(losses1[-1]))\n",
    "\n",
    "pred = sigmoid(X_valid.dot(w.T))\n",
    "sgd_loss_valid = log_loss(y_valid, pred)\n",
    "print('test loss with SGD optimizer: {}'.format(sgd_loss_valid))\n",
    "print('test loss with zero-order optimizer: {}'.format(valid_losses1[-1]))"
   ]
  },
  {
   "cell_type": "code",
   "execution_count": null,
   "metadata": {},
   "outputs": [],
   "source": []
  }
 ],
 "metadata": {
  "kernelspec": {
   "display_name": "Python 3",
   "language": "python",
   "name": "python3"
  },
  "language_info": {
   "codemirror_mode": {
    "name": "ipython",
    "version": 3
   },
   "file_extension": ".py",
   "mimetype": "text/x-python",
   "name": "python",
   "nbconvert_exporter": "python",
   "pygments_lexer": "ipython3",
   "version": "3.6.9"
  }
 },
 "nbformat": 4,
 "nbformat_minor": 4
}
