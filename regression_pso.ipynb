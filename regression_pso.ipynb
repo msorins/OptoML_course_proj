{
 "cells": [
  {
   "cell_type": "code",
   "execution_count": 1,
   "metadata": {
    "collapsed": true
   },
   "outputs": [
    {
     "name": "stdout",
     "output_type": "stream",
     "text": [
      "2.5.0\n"
     ]
    }
   ],
   "source": [
    "import matplotlib.pyplot as plt\n",
    "import numpy as np\n",
    "import pandas as pd\n",
    "import seaborn as sns\n",
    "np.set_printoptions(precision=3, suppress=True)\n",
    "import tensorflow as tf\n",
    "\n",
    "from tensorflow import keras\n",
    "from tensorflow.keras import layers\n",
    "from tensorflow.keras.layers.experimental import preprocessing\n",
    "print(tf.__version__)"
   ]
  },
  {
   "cell_type": "code",
   "execution_count": 39,
   "outputs": [],
   "source": [
    "column_names = ['id','date','price','bedrooms','bathrooms','sqft_living','sqft_lot','floors','waterfront','view','condition','grade','sqft_above','sqft_basement','yr_built','yr_renovated', 'zipcode','lat','long','sqft_living15','sqft_lot15']\n",
    "\n",
    "raw_dataset = pd.read_csv('./data/kc_house_data.csv', names=column_names,\n",
    "                          na_values='?',\n",
    "                          header = 1,\n",
    "                          sep=',', skipinitialspace=False)\n",
    "raw_dataset = raw_dataset.drop(columns = ['id', 'date']) # 'lat', 'long', 'zipcode'\n",
    "dataset = raw_dataset.copy()\n",
    "dataset = dataset.dropna()\n",
    "\n",
    "train_dataset = dataset.sample(frac=0.8, random_state=0)\n",
    "test_dataset = dataset.drop(train_dataset.index)\n",
    "\n",
    "train_features = train_dataset.copy()\n",
    "test_features = test_dataset.copy()\n",
    "\n",
    "train_labels = train_features.pop('price')\n",
    "test_labels = test_features.pop('price')\n",
    "\n",
    "selected_features = selected_features = ['sqft_living', 'sqft_lot', 'bedrooms','bathrooms', 'view', 'condition', 'grade']\n",
    "# selected_features = ['sqft_living']\n",
    "#np_selected_features = np.array(train_features[selected_features])\n",
    "#normalizer = preprocessing.Normalization(input_shape=[7,])\n",
    "#normalizer.adapt(np_selected_features)"
   ],
   "metadata": {
    "collapsed": false,
    "pycharm": {
     "name": "#%%\n"
    }
   }
  },
  {
   "cell_type": "code",
   "execution_count": 40,
   "outputs": [],
   "source": [
    "def loss_one(W, X, res):\n",
    "    prediction = np.dot(W[:-1], X) + W[-1]\n",
    "    return abs(res - prediction)\n",
    "\n",
    "def loss_all(W, train_features, train_labels):\n",
    "    \"\"\"\n",
    "    :param W: weights\n",
    "    :param train_features: features\n",
    "    :param train_labels: labels\n",
    "    :return: MAE (MEAN ABSOLUTE ERROR) loss\n",
    "    \"\"\"\n",
    "    total_loss = 0\n",
    "    for i in range(train_features.shape[0]):\n",
    "        total_loss += loss_one(W, train_features[i], train_labels[i])\n",
    "\n",
    "    return total_loss / train_features.shape[0]\n",
    "\n",
    "def loss_all_implicit(W):\n",
    "    \"\"\"\n",
    "    Wrapper that implicitely sets the train_features and train_label params.\n",
    "    Used to be passed to the PSO class bellow\n",
    "    \"\"\"\n",
    "    return loss_all(W, train_features, train_labels)"
   ],
   "metadata": {
    "collapsed": false,
    "pycharm": {
     "name": "#%%\n"
    }
   }
  },
  {
   "cell_type": "code",
   "execution_count": 41,
   "outputs": [],
   "source": [
    "train_features = train_features[selected_features].to_numpy()\n",
    "train_labels = train_labels.to_numpy()\n",
    "test_features = test_features[selected_features].to_numpy()\n",
    "test_labels = test_labels.to_numpy()"
   ],
   "metadata": {
    "collapsed": false,
    "pycharm": {
     "name": "#%%\n"
    }
   }
  },
  {
   "cell_type": "code",
   "execution_count": 42,
   "outputs": [
    {
     "data": {
      "text/plain": "8"
     },
     "execution_count": 42,
     "metadata": {},
     "output_type": "execute_result"
    }
   ],
   "source": [
    "dims = train_features.shape[1] + 1\n",
    "dims\n"
   ],
   "metadata": {
    "collapsed": false,
    "pycharm": {
     "name": "#%%\n"
    }
   }
  },
  {
   "cell_type": "code",
   "execution_count": 44,
   "outputs": [
    {
     "name": "stdout",
     "output_type": "stream",
     "text": [
      "loss one: 672224.5\n",
      "loss training: 524700.2175390399\n",
      "loss test: 517692.8043729755\n"
     ]
    }
   ],
   "source": [
    "test_run_weight = np.ones(dims)\n",
    "print(f\"loss one: {loss_one(test_run_weight, train_features[0], train_labels[0])}\")\n",
    "print(f\"loss training: {loss_all(test_run_weight, train_features, train_labels)}\")\n",
    "print(f\"loss test: {loss_all(test_run_weight, test_features, test_labels)}\")"
   ],
   "metadata": {
    "collapsed": false,
    "pycharm": {
     "name": "#%%\n"
    }
   }
  },
  {
   "cell_type": "code",
   "execution_count": 45,
   "outputs": [],
   "source": [
    "class PSO(object):\n",
    "    def __init__(self, func, init_pos, n_particles):\n",
    "        self.func = func\n",
    "        self.n_particles = n_particles\n",
    "        self.init_pos = np.array(init_pos)\n",
    "        self.particle_dim = len(init_pos)\n",
    "        self.particles_pos = np.random.uniform(size=(n_particles, self.particle_dim)) \\\n",
    "                             * self.init_pos\n",
    "        self.velocities = np.random.uniform(size=(n_particles, self.particle_dim))\n",
    "\n",
    "        # Initialize the best positions\n",
    "        self.g_best = init_pos\n",
    "        self.p_best = self.particles_pos\n",
    "\n",
    "    def update_position(self, x, v):\n",
    "        \"\"\"\n",
    "        x (array-like): particle current position.\n",
    "        v (array-like): particle current velocity.\n",
    "        \"\"\"\n",
    "        x = np.array(x)\n",
    "        v = np.array(v)\n",
    "        new_x = x + v\n",
    "        return new_x\n",
    "\n",
    "    def update_velocity(self, x, v, p_best, g_best, c0=0.5, c1=1.5, w=0.75):\n",
    "        \"\"\"\n",
    "        x (array-like): particle current position.\n",
    "        v (array-like): particle current velocity.\n",
    "        p_best (array-like): the best position found so far for a particle.\n",
    "        g_best (array-like): the best position regarding\n",
    "                             all the particles found so far.\n",
    "        c0 (float): the cognitive scaling constant.\n",
    "        c1 (float): the social scaling constant.\n",
    "        w (float): the inertia weight\n",
    "        \"\"\"\n",
    "        x = np.array(x)\n",
    "        v = np.array(v)\n",
    "        assert x.shape == v.shape, 'Position and velocity must have same shape'\n",
    "        # a random number between 0 and 1.\n",
    "        r = np.random.uniform()\n",
    "        p_best_np = np.array(p_best)\n",
    "        g_best_np = np.array(g_best)\n",
    "\n",
    "        new_v = w * v + c0 * r * (p_best_np - x) + c1 * r * (g_best_np - x)\n",
    "        return new_v\n",
    "\n",
    "    def optimize(self, maxiter=25):\n",
    "        losses = []\n",
    "        for it in range(maxiter):\n",
    "            for i in range(self.n_particles):\n",
    "                x = self.particles_pos[i]\n",
    "                v = self.velocities[i]\n",
    "                p_best = self.p_best[i]\n",
    "                self.velocities[i] = self.update_velocity(x, v, p_best, self.g_best)\n",
    "                self.particles_pos[i] = self.update_position(x, v)\n",
    "                # Update the best position for particle i\n",
    "                if self.func(self.particles_pos[i]) < self.func(p_best):\n",
    "                    self.p_best[i] = self.particles_pos[i]\n",
    "                # Update the best position overall\n",
    "\n",
    "                old_val = self.func(self.g_best)\n",
    "                new_val = self.func(self.particles_pos[i])\n",
    "                if new_val < old_val:\n",
    "                    self.g_best = np.copy(self.particles_pos[i])\n",
    "                    print(f\"Better loss, from {old_val} to {new_val} with particle {self.g_best}\")\n",
    "            losses.append(self.func(self.g_best))\n",
    "            print(f\"Iteration {it}, loss: {losses[-1]}, particle: {self.g_best}\")\n",
    "\n",
    "        return self.g_best, self.func(self.g_best), losses"
   ],
   "metadata": {
    "collapsed": false,
    "pycharm": {
     "name": "#%%\n"
    }
   }
  },
  {
   "cell_type": "code",
   "execution_count": 46,
   "outputs": [
    {
     "name": "stdout",
     "output_type": "stream",
     "text": [
      "Better loss, from 524700.2175390399 to 515669.7919649196 with particle [1.457 1.616 1.318 1.289 1.225 1.029 1.359 1.408]\n",
      "Better loss, from 515669.7919649196 to 509237.3617480759 with particle [1.538 2.159 1.438 1.505 1.514 1.074 1.809 1.352]\n",
      "Better loss, from 509237.3617480759 to 504440.8675858936 with particle [1.848 2.573 1.516 1.946 1.507 1.718 1.827 1.473]\n",
      "Better loss, from 504440.8675858936 to 502982.382963073 with particle [1.637 2.777 1.592 1.999 1.552 2.005 1.957 1.879]\n",
      "Better loss, from 502982.382963073 to 493426.40117611084 with particle [2.529 3.716 2.554 3.036 2.451 3.106 2.8   2.847]\n",
      "Better loss, from 493426.40117611084 to 481612.5311713106 with particle [3.439 5.249 4.085 4.581 3.529 4.403 3.892 4.475]\n",
      "Better loss, from 481612.5311713106 to 480932.050387617 with particle [3.74  5.263 4.393 4.384 3.752 4.575 4.264 4.611]\n",
      "Better loss, from 480932.050387617 to 464715.58463008306 with particle [5.405 7.973 6.192 6.436 5.558 6.55  6.2   6.797]\n",
      "Better loss, from 464715.58463008306 to 464585.0680175081 with particle [5.678 7.875 6.013 6.178 5.697 6.322 6.115 7.209]\n",
      "Better loss, from 464585.0680175081 to 460510.64399482624 with particle [6.104 8.744 6.845 6.583 6.242 6.954 6.691 8.361]\n",
      "Better loss, from 460510.64399482624 to 454903.55025108973 with particle [7.186 9.862 7.878 7.967 7.198 7.815 7.585 9.94 ]\n",
      "Better loss, from 454903.55025108973 to 443162.958089018 with particle [ 9.897 13.053 10.703 10.675  9.7   10.421  9.928 13.132]\n",
      "Better loss, from 443162.958089018 to 439520.1046077398 with particle [11.176 14.254 12.221 11.802 10.553 11.847 11.226 14.552]\n",
      "Iteration 0, loss: 439520.1046077398, particle: [11.176 14.254 12.221 11.802 10.553 11.847 11.226 14.552]\n",
      "Better loss, from 439520.1046077398 to 432281.22061283636 with particle [15.752 20.033 16.831 16.395 14.676 16.7   16.144 20.174]\n",
      "Iteration 1, loss: 432281.22061283636, particle: [15.752 20.033 16.831 16.395 14.676 16.7   16.144 20.174]\n",
      "Iteration 2, loss: 432281.22061283636, particle: [15.752 20.033 16.831 16.395 14.676 16.7   16.144 20.174]\n",
      "Iteration 3, loss: 432281.22061283636, particle: [15.752 20.033 16.831 16.395 14.676 16.7   16.144 20.174]\n",
      "Better loss, from 432281.22061283636 to 432218.15127281117 with particle [18.023 22.252 18.819 18.565 16.522 18.954 18.209 23.265]\n",
      "Better loss, from 432218.15127281117 to 430594.64831236796 with particle [16.088 18.772 17.017 16.494 14.29  16.591 15.963 21.218]\n",
      "Better loss, from 430594.64831236796 to 430011.4224732833 with particle [18.807 21.689 19.734 19.192 16.539 19.189 18.503 24.385]\n",
      "Iteration 4, loss: 430011.4224732833, particle: [18.807 21.689 19.734 19.192 16.539 19.189 18.503 24.385]\n",
      "Better loss, from 430011.4224732833 to 428875.9578290667 with particle [18.403 20.598 18.867 17.589 16.23  18.13  17.982 23.515]\n",
      "Better loss, from 428875.9578290667 to 428498.9624514869 with particle [16.95  17.33  16.862 15.41  14.434 15.978 16.067 21.752]\n",
      "Iteration 5, loss: 428498.9624514869, particle: [16.95  17.33  16.862 15.41  14.434 15.978 16.067 21.752]\n",
      "Better loss, from 428498.9624514869 to 428294.56591515976 with particle [18.637 20.438 19.212 18.202 16.343 18.802 18.13  24.088]\n",
      "Better loss, from 428294.56591515976 to 428273.2755260551 with particle [19.321 21.12  19.793 18.929 16.886 19.398 18.717 25.021]\n",
      "Better loss, from 428273.2755260551 to 427925.315287353 with particle [17.305 17.402 17.46  17.125 14.176 16.764 16.33  22.593]\n",
      "Better loss, from 427925.315287353 to 427076.565494431 with particle [17.757 16.281 17.017 15.374 14.425 15.875 16.264 22.534]\n",
      "Better loss, from 427076.565494431 to 426481.04385013436 with particle [20.892 21.438 20.356 18.813 17.391 19.57  19.61  25.803]\n",
      "Better loss, from 426481.04385013436 to 422298.32295169 with particle [20.748 17.463 19.543 16.895 16.34  17.659 18.354 26.274]\n",
      "Iteration 6, loss: 422298.32295169, particle: [20.748 17.463 19.543 16.895 16.34  17.659 18.354 26.274]\n",
      "Better loss, from 422298.32295169 to 420655.5056328389 with particle [27.501 23.025 26.019 22.259 21.679 23.28  24.488 34.884]\n",
      "Better loss, from 420655.5056328389 to 416602.9491908678 with particle [31.5   23.475 28.833 23.568 23.855 24.984 27.148 39.567]\n",
      "Better loss, from 416602.9491908678 to 408176.8180824013 with particle [37.645 23.296 33.564 26.289 26.892 27.669 31.195 47.068]\n",
      "Better loss, from 408176.8180824013 to 406145.38103287603 with particle [46.453 25.403 40.506 30.765 32.028 32.457 37.502 57.774]\n",
      "Better loss, from 406145.38103287603 to 403686.84745547106 with particle [49.063 25.453 42.103 31.388 33.488 33.48  39.255 60.72 ]\n",
      "Better loss, from 403686.84745547106 to 392845.6606941555 with particle [53.764 24.107 44.964 32.341 35.449 34.762 41.92  66.068]\n",
      "Better loss, from 392845.6606941555 to 368170.6993616959 with particle [59.066 19.118 47.688 31.936 36.902 34.697 44.066 72.797]\n",
      "Better loss, from 368170.6993616959 to 351232.89155168604 with particle [80.568 20.714 63.569 40.749 48.584 44.61  58.566 98.861]\n",
      "Better loss, from 351232.89155168604 to 345440.3560529264 with particle [75.594 18.2   58.955 37.369 45.426 41.013 54.045 93.078]\n",
      "Iteration 7, loss: 345440.3560529264, particle: [75.594 18.2   58.955 37.369 45.426 41.013 54.045 93.078]\n",
      "Better loss, from 345440.3560529264 to 314221.9279360185 with particle [ 91.11   14.151  68.652  40.596  52.112  45.02   62.661 111.626]\n",
      "Better loss, from 314221.9279360185 to 261794.67430454676 with particle [121.384   6.824  88.017  47.387  65.509  53.68   79.764 147.757]\n",
      "Better loss, from 261794.67430454676 to 255802.21442221684 with particle [153.544  12.057 112.348  61.774  83.895  69.649 101.923 186.882]\n",
      "Better loss, from 255802.21442221684 to 249537.9328089563 with particle [182.635  11.991 132.879  72.02   99.057  81.504 120.574 222.023]\n",
      "Better loss, from 249537.9328089563 to 239422.79792424105 with particle [259.397   7.474 186.56   97.475 137.9   111.081 168.716 315.393]\n",
      "Iteration 8, loss: 239422.79792424105, particle: [259.397   7.474 186.56   97.475 137.9   111.081 168.716 315.393]\n",
      "Better loss, from 239422.79792424105 to 207607.79685394946 with particle [205.17    6.512 147.264  76.875 109.22   87.436 133.595 249.527]\n",
      "Better loss, from 207607.79685394946 to 186466.28946453577 with particle [260.69    1.989 185.269  94.214 136.806 107.935 167.785 316.626]\n",
      "Better loss, from 186466.28946453577 to 175418.63138775007 with particle [265.046   0.271 188.162  95.116 138.402 109.12  170.022 321.737]\n",
      "Iteration 9, loss: 175418.63138775007, particle: [265.046   0.271 188.162  95.116 138.402 109.12  170.022 321.737]\n",
      "Iteration 10, loss: 175418.63138775007, particle: [265.046   0.271 188.162  95.116 138.402 109.12  170.022 321.737]\n",
      "Iteration 11, loss: 175418.63138775007, particle: [265.046   0.271 188.162  95.116 138.402 109.12  170.022 321.737]\n",
      "Better loss, from 175418.63138775007 to 172061.7269133967 with particle [241.051  -1.525 170.46   85.44  125.094  98.065 153.934 292.571]\n",
      "Iteration 12, loss: 172061.7269133967, particle: [241.051  -1.525 170.46   85.44  125.094  98.065 153.934 292.571]\n",
      "Iteration 13, loss: 172061.7269133967, particle: [241.051  -1.525 170.46   85.44  125.094  98.065 153.934 292.571]\n",
      "Iteration 14, loss: 172061.7269133967, particle: [241.051  -1.525 170.46   85.44  125.094  98.065 153.934 292.571]\n",
      "Better loss, from 172061.7269133967 to 169588.93110614098 with particle [227.967   0.359 161.629  81.677 118.886  93.499 146.148 276.845]\n",
      "Iteration 15, loss: 169588.93110614098, particle: [227.967   0.359 161.629  81.677 118.886  93.499 146.148 276.845]\n",
      "Iteration 16, loss: 169588.93110614098, particle: [227.967   0.359 161.629  81.677 118.886  93.499 146.148 276.845]\n",
      "Better loss, from 169588.93110614098 to 168163.18281838938 with particle [245.089  -0.114 173.59   87.434 127.762 100.162 157.013 297.612]\n",
      "Iteration 17, loss: 168163.18281838938, particle: [245.089  -0.114 173.59   87.434 127.762 100.162 157.013 297.612]\n",
      "Iteration 18, loss: 168163.18281838938, particle: [245.089  -0.114 173.59   87.434 127.762 100.162 157.013 297.612]\n",
      "Better loss, from 168163.18281838938 to 168144.5374089794 with particle [246.638  -0.373 174.586  87.786 128.499 100.612 157.898 299.47 ]\n",
      "Iteration 19, loss: 168144.5374089794, particle: [246.638  -0.373 174.586  87.786 128.499 100.612 157.898 299.47 ]\n",
      "Iteration 20, loss: 168144.5374089794, particle: [246.638  -0.373 174.586  87.786 128.499 100.612 157.898 299.47 ]\n",
      "Iteration 21, loss: 168144.5374089794, particle: [246.638  -0.373 174.586  87.786 128.499 100.612 157.898 299.47 ]\n",
      "Iteration 22, loss: 168144.5374089794, particle: [246.638  -0.373 174.586  87.786 128.499 100.612 157.898 299.47 ]\n",
      "Iteration 23, loss: 168144.5374089794, particle: [246.638  -0.373 174.586  87.786 128.499 100.612 157.898 299.47 ]\n",
      "Iteration 24, loss: 168144.5374089794, particle: [246.638  -0.373 174.586  87.786 128.499 100.612 157.898 299.47 ]\n"
     ]
    },
    {
     "data": {
      "text/plain": "array([246.638,  -0.373, 174.586,  87.786, 128.499, 100.612, 157.898,\n       299.47 ])"
     },
     "execution_count": 46,
     "metadata": {},
     "output_type": "execute_result"
    }
   ],
   "source": [
    "pso_instance = PSO(func=loss_all_implicit, init_pos=test_run_weight, n_particles=25)\n",
    "res_s, last_loss, hist_loss = pso_instance.optimize()\n",
    "res_s\n"
   ],
   "metadata": {
    "collapsed": false,
    "pycharm": {
     "name": "#%%\n"
    }
   }
  },
  {
   "cell_type": "code",
   "execution_count": 47,
   "outputs": [
    {
     "data": {
      "text/plain": "<Figure size 432x288 with 1 Axes>",
      "image/png": "[encoded data removed]"
     },
     "metadata": {
      "needs_background": "light"
     },
     "output_type": "display_data"
    }
   ],
   "source": [
    "def plot_loss(history):\n",
    "  plt.plot(history, label='loss')\n",
    "  plt.xlabel('Epoch')\n",
    "\n",
    "  plt.ylabel('Error')\n",
    "  plt.legend()\n",
    "  plt.grid(True)\n",
    "\n",
    "plot_loss(hist_loss)"
   ],
   "metadata": {
    "collapsed": false,
    "pycharm": {
     "name": "#%%\n"
    }
   }
  },
  {
   "cell_type": "code",
   "execution_count": 48,
   "outputs": [
    {
     "name": "stdout",
     "output_type": "stream",
     "text": [
      "Final test loss: 166536.95971584925\n"
     ]
    }
   ],
   "source": [
    "print(f\"Final test loss: {loss_all(res_s, test_features, test_labels)}\")"
   ],
   "metadata": {
    "collapsed": false,
    "pycharm": {
     "name": "#%%\n"
    }
   }
  }
 ],
 "metadata": {
  "kernelspec": {
   "display_name": "Python 3",
   "language": "python",
   "name": "python3"
  },
  "language_info": {
   "codemirror_mode": {
    "name": "ipython",
    "version": 2
   },
   "file_extension": ".py",
   "mimetype": "text/x-python",
   "name": "python",
   "nbconvert_exporter": "python",
   "pygments_lexer": "ipython2",
   "version": "2.7.6"
  }
 },
 "nbformat": 4,
 "nbformat_minor": 0
}